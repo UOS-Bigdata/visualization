{
 "cells": [
  {
   "attachments": {},
   "cell_type": "markdown",
   "metadata": {},
   "source": [
    "# Singular Value Decomposition (특이치 분해)\n",
    "<!-- 9-2 -->\n"
   ]
  },
  {
   "attachments": {},
   "cell_type": "markdown",
   "metadata": {},
   "source": [
    "사용 패키지의 로드\n",
    "- numpy: 행렬 및 선형대수 관련 연산 수행\n",
    "- matplotlib, matplotlib.pyplot: 시각화 도구\n",
    "- sklearn.preprocessing.StandardScaler: 데이터 표준화 함수\n",
    "- sklearn.decomposition.PCA: 주성분분석 도구\n",
    "\n",
    " cf) matplotlib.rcParams: 시각화 실행시 설정 변수 (runtime configuration parameter) 변수로 값을 변경함으로써 폰트, 색상등을 조절할 수 있습니다."
   ]
  },
  {
   "cell_type": "code",
   "execution_count": 1,
   "metadata": {},
   "outputs": [],
   "source": [
    "import numpy as np\n",
    "import matplotlib\n",
    "import matplotlib.pyplot as plt\n",
    "from sklearn.preprocessing import StandardScaler\n",
    "from sklearn.decomposition import PCA\n",
    "\n",
    "matplotlib.rcParams['font.family'] ='Malgun Gothic'\n",
    "matplotlib.rcParams['axes.unicode_minus'] =False"
   ]
  },
  {
   "attachments": {},
   "cell_type": "markdown",
   "metadata": {},
   "source": [
    "먼저 이차원 벡터 $v_1 = (v_{11}, \\cdots, v_{1p})$, $v_2 = (v_{21}, \\cdots, v_{2p})$를 만들어보자. "
   ]
  },
  {
   "cell_type": "code",
   "execution_count": 26,
   "metadata": {},
   "outputs": [],
   "source": [
    "# --------------- 9-2 SVD --------------- #\n",
    "### 9-2-1 내적과 각도, 정사영\n",
    "np.random.seed(0)\n",
    "p = 2\n",
    "v1 = np.random.normal(size = p)\n",
    "v2 = np.random.uniform(size = p)"
   ]
  },
  {
   "attachments": {},
   "cell_type": "markdown",
   "metadata": {},
   "source": [
    "이 두 벡터를 이용하여 벡터의 연산에 대해서 알아본다. \n",
    "- elementwise product\n",
    "$$ v_1 \\circ v_2 = (v_{11}v_{21}, \\cdots, v_{1p}v_{2p}) $$\n",
    "- ($l_2$-)norm\n",
    "$$\\|v_1\\| = \\sqrt{v_{11}^2 + \\cdots v_{1p}^2}$$\n",
    "- inner product\n",
    "$$\\langle v_1, v_2 \\rangle  = v_{11}v_{21} + \\cdots + v_{1p}v_{2p}$$\n",
    "cf)  $\\langle v_1, v_2 \\rangle =v_1^\\top v_2$"
   ]
  },
  {
   "cell_type": "code",
   "execution_count": null,
   "metadata": {},
   "outputs": [],
   "source": [
    "# elementwise product\n",
    "v1 * v2"
   ]
  },
  {
   "cell_type": "code",
   "execution_count": 7,
   "metadata": {},
   "outputs": [
    {
     "data": {
      "text/plain": [
       "1.8088688373462207"
      ]
     },
     "execution_count": 7,
     "metadata": {},
     "output_type": "execute_result"
    }
   ],
   "source": [
    "# norm\n",
    "np.sqrt(np.sum(v1 * v1))\n",
    "np.linalg.norm(v1)\n",
    "\n",
    "def vec_norm(vec):\n",
    "    output = np.linalg.norm(vec)\n",
    "    return output\n",
    "\n",
    "vec_norm(v1)"
   ]
  },
  {
   "cell_type": "code",
   "execution_count": 8,
   "metadata": {},
   "outputs": [
    {
     "data": {
      "text/plain": [
       "1.2813450810168578"
      ]
     },
     "execution_count": 8,
     "metadata": {},
     "output_type": "execute_result"
    }
   ],
   "source": [
    "# inner product\n",
    "np.sum(v1 * v2)\n",
    "np.dot(v1.T, v2)"
   ]
  },
  {
   "cell_type": "code",
   "execution_count": 9,
   "metadata": {},
   "outputs": [
    {
     "data": {
      "text/plain": [
       "1.8088688373462207"
      ]
     },
     "execution_count": 9,
     "metadata": {},
     "output_type": "execute_result"
    }
   ],
   "source": [
    "# innter product를 이용하여 벡터의 norm 계산\n",
    "np.sqrt(np.dot(v1.T, v1))"
   ]
  },
  {
   "cell_type": "code",
   "execution_count": 10,
   "metadata": {},
   "outputs": [
    {
     "data": {
      "image/png": "[encoded data removed]",
      "text/plain": [
       "<Figure size 576x576 with 1 Axes>"
      ]
     },
     "metadata": {
      "needs_background": "light"
     },
     "output_type": "display_data"
    }
   ],
   "source": [
    "# 두 개의 벡터 그려보기\n",
    "plt.figure(figsize = (8, 8))\n",
    "plt.arrow(0 ,0, v1[0], v1[1], head_width = .1, head_length = .1, length_includes_head = True, color = 'red')\n",
    "plt.arrow(0 ,0, v2[0], v2[1], head_width = .1, head_length = .1, length_includes_head = True, color = 'blue')\n",
    "plt.xlim(-1, 2)\n",
    "plt.ylim(-1, 2)\n",
    "plt.grid()\n",
    "plt.show()\n",
    "plt.close()"
   ]
  },
  {
   "attachments": {},
   "cell_type": "markdown",
   "metadata": {},
   "source": [
    "두 벡터의 유사도는 벡터 차의 길이 (Euclidean distance와 같음), 코사인 유사도를 널리 이용합니다. 코사인 유사도는 각 벡터 길이에 의존하지 않는다는 특징이 있습니다. 여기서는 코사인 유사도를 구해보겠습니다.\n",
    "$$sim(v_1,v_2) = \\frac{\\langle v_1, v_2 \\rangle}{\\|v_1\\|\\|v_2\\|}$$\n",
    "\n",
    "cf) Cauchy-Schwartz 부등식으로 \n",
    "\\begin{align}\n",
    "|v_1^\\top v_2| \\leq \\|v_1\\|\\|v_2\\|\n",
    "\\end{align}\n",
    "이므로 \n",
    "$$-1 \\leq sim(v_1,v_2)\\leq 1$$\n",
    "를 알 수 있다."
   ]
  },
  {
   "cell_type": "code",
   "execution_count": 12,
   "metadata": {},
   "outputs": [],
   "source": [
    "# 코사인 유사도\n",
    "def cosine_similarity(vec1, vec2):\n",
    "    cosim = np.dot(vec1, vec2) / (np.linalg.norm(v1) * np.linalg.norm(v2))\n",
    "    return cosim"
   ]
  },
  {
   "cell_type": "code",
   "execution_count": 13,
   "metadata": {},
   "outputs": [
    {
     "data": {
      "text/plain": [
       "0.8717947315508269"
      ]
     },
     "execution_count": 13,
     "metadata": {},
     "output_type": "execute_result"
    }
   ],
   "source": [
    "cosine_similarity(v1, v2)"
   ]
  },
  {
   "attachments": {},
   "cell_type": "markdown",
   "metadata": {},
   "source": [
    "v2의 v1위로 정사영(projection)은 다음과 같이 표시합니다.\n",
    "$$\\prod_{\\mathcal{C}(v_1)}v_2$$\n",
    "여기서 $\\prod_{\\mathcal{C}(v_1)}$는 $v_1$이 생성하는 공간으로 정사영을 만들어주는 행렬(선형변환)이며 $v_2$는 이 선형변환에 대한 입력변수로 간주하면 됩니다. 즉, $v_2$을 $v_1$이 생성하는 공간으로 정사영한 결과가 $\\prod_{\\mathcal{C}(v_1)}v_2$입니다.\n"
   ]
  },
  {
   "cell_type": "code",
   "execution_count": 30,
   "metadata": {},
   "outputs": [
    {
     "data": {
      "image/png": "[encoded data removed]",
      "text/plain": [
       "<Figure size 576x576 with 1 Axes>"
      ]
     },
     "metadata": {
      "needs_background": "light"
     },
     "output_type": "display_data"
    }
   ],
   "source": [
    "# 정사영\n",
    "# v2의 v1위로 정사영\n",
    "def projection(vec1, vec2):\n",
    "    proj = (np.dot(vec1, vec2) / vec_norm(vec1)) * (vec1 / vec_norm(vec1))\n",
    "    return proj\n",
    "\n",
    "proj_vec = projection(v1, v2)\n",
    "\n",
    "plt.figure(figsize = (8, 8))\n",
    "plt.arrow(0 ,0, v1[0], v1[1], head_width = .1, head_length = .1, length_includes_head = True, color = 'gray')\n",
    "plt.arrow(0 ,0, v2[0], v2[1], head_width = .1, head_length = .1, length_includes_head = True, color = 'gray')\n",
    "plt.arrow(0, 0, proj_vec[0], proj_vec[1], head_width = .1, head_length = .1, length_includes_head = True, color = 'red')\n",
    "plt.arrow(proj_vec[0], proj_vec[1], v2[0]-proj_vec[0], v2[1]-proj_vec[1], head_width = 0, head_length = 0, length_includes_head = True, color = 'gray', linestyle = 'dashed')\n",
    "plt.xlim(-1, 2)\n",
    "plt.ylim(-1, 2)\n",
    "plt.grid()\n",
    "plt.show()\n",
    "plt.close()"
   ]
  },
  {
   "cell_type": "code",
   "execution_count": 15,
   "metadata": {},
   "outputs": [],
   "source": [
    "\n",
    "### 9-2-2 선형변환으로서 직교행렬과 대각행렬\n",
    "seed = 0\n",
    "np.random.seed(seed)\n",
    "n = 2\n",
    "mat = np.random.normal(size = (n, n))"
   ]
  },
  {
   "cell_type": "code",
   "execution_count": 16,
   "metadata": {},
   "outputs": [
    {
     "name": "stdout",
     "output_type": "stream",
     "text": [
      "original matrix: \n",
      "[[1.76405235 0.40015721]\n",
      " [0.97873798 2.2408932 ]] \n",
      "transformed matrix:\n",
      "[[1.76405235 0.40015721]\n",
      " [0.97873798 2.2408932 ]]\n"
     ]
    }
   ],
   "source": [
    "# 대각행렬\n",
    "diag_mat1 = np.identity(n)\n",
    "trans_mat1 = mat @ diag_mat1\n",
    "print(f'original matrix: \\n{mat} \\ntransformed matrix:\\n{trans_mat1}')"
   ]
  },
  {
   "cell_type": "code",
   "execution_count": 17,
   "metadata": {},
   "outputs": [
    {
     "data": {
      "image/png": "[encoded data removed]",
      "text/plain": [
       "<Figure size 576x576 with 1 Axes>"
      ]
     },
     "metadata": {
      "needs_background": "light"
     },
     "output_type": "display_data"
    },
    {
     "name": "stdout",
     "output_type": "stream",
     "text": [
      "original matrix: \n",
      "[[1.76405235 0.40015721]\n",
      " [0.97873798 2.2408932 ]] \n",
      "transformed matrix:\n",
      "[[0.88202617 0.80031442]\n",
      " [0.48936899 4.4817864 ]]\n"
     ]
    }
   ],
   "source": [
    "diag_elem = [0.5, 2]\n",
    "diag_mat2 = diag_elem * np.identity(n)\n",
    "trans_mat2 = mat @ diag_mat2\n",
    "\n",
    "plt.figure(figsize = (8, 8))\n",
    "plt.arrow(0 ,0, mat[:, 0][0], mat[:, 0][1], head_width = .1, head_length = .1, length_includes_head = True, color = 'gray')\n",
    "plt.arrow(0 ,0, mat[:, 1][0], mat[:, 1][1], head_width = .1, head_length = .1, length_includes_head = True, color = 'gray')\n",
    "plt.arrow(0 ,0, trans_mat2[:, 0][0], trans_mat2[:, 0][1], head_width = .1, head_length = .1, length_includes_head = True, color = 'red')\n",
    "plt.arrow(0 ,0, trans_mat2[:, 1][0], trans_mat2[:, 1][1], head_width = .1, head_length = .1, length_includes_head = True, color = 'blue')\n",
    "plt.xlim(-1, 5)\n",
    "plt.ylim(-1, 5)\n",
    "plt.grid()\n",
    "plt.show()\n",
    "plt.close()\n",
    "\n",
    "print(f'original matrix: \\n{mat} \\ntransformed matrix:\\n{trans_mat2}')"
   ]
  },
  {
   "cell_type": "code",
   "execution_count": 18,
   "metadata": {},
   "outputs": [
    {
     "data": {
      "image/png": "[encoded data removed]",
      "text/plain": [
       "<Figure size 576x576 with 1 Axes>"
      ]
     },
     "metadata": {
      "needs_background": "light"
     },
     "output_type": "display_data"
    },
    {
     "name": "stdout",
     "output_type": "stream",
     "text": [
      "original matrix: \n",
      "[[1.76405235 0.40015721]\n",
      " [0.97873798 2.2408932 ]] \n",
      "transformed matrix:\n",
      "[[3.11188068 0.89670957]\n",
      " [1.72654504 5.02160233]]\n"
     ]
    }
   ],
   "source": [
    "diag_elem = np.diag(mat)\n",
    "diag_mat3 = diag_elem * np.identity(n)\n",
    "trans_mat3 = mat @ diag_mat3\n",
    "\n",
    "plt.figure(figsize = (8, 8))\n",
    "plt.arrow(0 ,0, mat[:, 0][0], mat[:, 0][1], head_width = .1, head_length = .1, length_includes_head = True, color = 'gray')\n",
    "plt.arrow(0 ,0, mat[:, 1][0], mat[:, 1][1], head_width = .1, head_length = .1, length_includes_head = True, color = 'gray')\n",
    "plt.arrow(0 ,0, trans_mat3[:, 0][0], trans_mat3[:, 0][1], head_width = .1, head_length = .1, length_includes_head = True, color = 'red')\n",
    "plt.arrow(0 ,0, trans_mat3[:, 1][0], trans_mat3[:, 1][1], head_width = .1, head_length = .1, length_includes_head = True, color = 'blue')\n",
    "plt.xlim(-1, 6)\n",
    "plt.ylim(-1, 6)\n",
    "plt.grid()\n",
    "plt.show()\n",
    "plt.close()\n",
    "\n",
    "print(f'original matrix: \\n{mat} \\ntransformed matrix:\\n{trans_mat3}')"
   ]
  },
  {
   "cell_type": "code",
   "execution_count": 22,
   "metadata": {},
   "outputs": [
    {
     "name": "stdout",
     "output_type": "stream",
     "text": [
      "Q matrix:\n",
      " [[-0.31622777 -0.9486833 ]\n",
      " [-0.9486833   0.31622777]]\n",
      "R matrix:\n",
      " [[-3.16227766 -5.37587202]\n",
      " [ 0.         -0.31622777]]\n",
      "Q is orthogonal matrix:\n",
      " [[ 1.00000000e+00 -5.84964249e-17]\n",
      " [-5.84964249e-17  1.00000000e+00]]\n"
     ]
    }
   ],
   "source": [
    "# 직교행렬\n",
    "mat2 = np.array([1, 2, 3, 5]).reshape(2, 2)\n",
    "q, r = np.linalg.qr(mat2)\n",
    "print(\"Q matrix:\\n\", q)\n",
    "print(\"R matrix:\\n\", r)\n",
    "print(\"Q is orthogonal matrix:\\n\", q @ q.T)"
   ]
  },
  {
   "cell_type": "code",
   "execution_count": 23,
   "metadata": {},
   "outputs": [
    {
     "data": {
      "image/png": "[encoded data removed]",
      "text/plain": [
       "<Figure size 576x576 with 1 Axes>"
      ]
     },
     "metadata": {
      "needs_background": "light"
     },
     "output_type": "display_data"
    },
    {
     "name": "stdout",
     "output_type": "stream",
     "text": [
      "original matrix: \n",
      "[[1 2]\n",
      " [3 5]] \n",
      "transformed matrix:\n",
      "[[-3.16227766e+00 -5.37587202e+00]\n",
      " [ 3.88578059e-16 -3.16227766e-01]]\n"
     ]
    }
   ],
   "source": [
    "trans_mat4 = q @ mat2\n",
    "\n",
    "plt.figure(figsize = (8, 8))\n",
    "plt.arrow(0 ,0, mat2[:, 0][0], mat2[:, 0][1], head_width = .1, head_length = .1, length_includes_head = True, color = 'skyblue')\n",
    "plt.arrow(0 ,0, mat2[:, 1][0], mat2[:, 1][1], head_width = .1, head_length = .1, length_includes_head = True, color = 'orange')\n",
    "plt.arrow(0 ,0, trans_mat4[:, 0][0], trans_mat4[:, 0][1], head_width = .1, head_length = .1, length_includes_head = True, color = 'red')\n",
    "plt.arrow(0 ,0, trans_mat4[:, 1][0], trans_mat4[:, 1][1], head_width = .1, head_length = .1, length_includes_head = True, color = 'blue')\n",
    "plt.xlim(-6, 6)\n",
    "plt.ylim(-6, 6)\n",
    "plt.grid()\n",
    "plt.show()\n",
    "plt.close()\n",
    "\n",
    "print(f'original matrix: \\n{mat2} \\ntransformed matrix:\\n{trans_mat4}')"
   ]
  },
  {
   "cell_type": "code",
   "execution_count": 24,
   "metadata": {},
   "outputs": [
    {
     "data": {
      "image/png": "[encoded data removed]",
      "text/plain": [
       "<Figure size 576x576 with 1 Axes>"
      ]
     },
     "metadata": {
      "needs_background": "light"
     },
     "output_type": "display_data"
    },
    {
     "name": "stdout",
     "output_type": "stream",
     "text": [
      "original matrix: \n",
      "[[1 2]\n",
      " [3 5]] \n",
      "transformed matrix:\n",
      "[[-3.16227766e+00 -5.37587202e+00]\n",
      " [ 3.88578059e-16 -3.16227766e-01]]\n"
     ]
    }
   ],
   "source": [
    "q, r = np.linalg.qr(mat)\n",
    "q @ q.T\n",
    "\n",
    "trans_mat5 = q @ mat\n",
    "# trans_mat5 = q.T @ mat @ q\n",
    "\n",
    "plt.figure(figsize = (8, 8))\n",
    "plt.arrow(0 ,0, mat[:, 0][0], mat[:, 0][1], head_width = .1, head_length = .1, length_includes_head = True, color = 'skyblue')\n",
    "plt.arrow(0 ,0, mat[:, 1][0], mat[:, 1][1], head_width = .1, head_length = .1, length_includes_head = True, color = 'orange')\n",
    "plt.arrow(0 ,0, trans_mat5[:, 0][0], trans_mat5[:, 0][1], head_width = .1, head_length = .1, length_includes_head = True, color = 'red')\n",
    "plt.arrow(0 ,0, trans_mat5[:, 1][0], trans_mat5[:, 1][1], head_width = .1, head_length = .1, length_includes_head = True, color = 'blue')\n",
    "plt.xlim(-6, 6)\n",
    "plt.ylim(-6, 6)\n",
    "plt.grid()\n",
    "plt.show()\n",
    "plt.close()\n",
    "\n",
    "print(f'original matrix: \\n{mat2} \\ntransformed matrix:\\n{trans_mat4}')"
   ]
  },
  {
   "cell_type": "code",
   "execution_count": null,
   "metadata": {},
   "outputs": [],
   "source": [
    "\n",
    "\n",
    "### 9-2-3 행렬의 특이치 분해\n",
    "n = 10\n",
    "p = 2\n",
    "\n",
    "seed = 0\n",
    "np.random.seed(seed)\n",
    "\n",
    "x = np.random.normal(size = (n, p))\n",
    "u, s, vh= np.linalg.svd(x, full_matrices=False)\n",
    "u.shape\n",
    "s.shape\n",
    "vh.shape\n",
    "\n",
    "# UDV^T 에서 V^T matrix를 확인\n",
    "# V행렬의 열벡터는 직교함\n",
    "(vh[0,:]*vh[1,:]).sum()\n",
    "\n",
    "# 0번 obs의 표현형\n",
    "u[0,:]\n",
    "\n",
    "# scaled\n",
    "plt.plot(u[:,0],u[:,1], '.')\n",
    "\n",
    "# considering the size s\n",
    "plt.plot(s[0]*u[:,0],s[1]*u[:,1], '.')\n",
    "\n",
    "# approximation\n",
    "k = 1\n",
    "x_approx = u[:,:k]@np.diag(s[:k])@vh[:k,:]\n",
    "print( np.mean((x-x_approx)**2) )\n",
    "\n",
    "# 주성분 값을 이용한 데이터의 재표현\n",
    "x\n",
    "u@np.diag(s)@vh\n",
    "\n",
    "# x^T\n",
    "x.T\n",
    "vh.T@(np.diag(s)).T@u.T\n",
    "\n",
    "#\n",
    "x.T@x\n",
    "vh.T@(np.diag(s)).T@u.T@u@(np.diag(s))@vh\n",
    "\n",
    "# covariance\n",
    "(x - np.mean(x, axis = 0)).T@(x - np.mean(x, axis = 0))/x.shape[0]\n",
    "covmat = np.cov(x, rowvar = False, bias = True)\n",
    "covmat\n",
    "\n",
    "centered_x = np.zeros_like(x)\n",
    "for i in range(x.shape[1]):\n",
    "    centered_x[:, i] = x[:, i] - np.mean(x[:, i])\n",
    "\n",
    "u, s, vh= np.linalg.svd(centered_x, full_matrices=False)\n",
    "vh.T@(np.diag(s)).T@u.T@u@(np.diag(s))@vh\n",
    "covmat\n",
    "\n"
   ]
  }
 ],
 "metadata": {
  "kernelspec": {
   "display_name": "tf2",
   "language": "python",
   "name": "python3"
  },
  "language_info": {
   "codemirror_mode": {
    "name": "ipython",
    "version": 3
   },
   "file_extension": ".py",
   "mimetype": "text/x-python",
   "name": "python",
   "nbconvert_exporter": "python",
   "pygments_lexer": "ipython3",
   "version": "3.9.12"
  },
  "orig_nbformat": 4,
  "vscode": {
   "interpreter": {
    "hash": "09d430ac884b7b963decef9a3390e18440a81a639eb9d9528489333ac105a61d"
   }
  }
 },
 "nbformat": 4,
 "nbformat_minor": 2
}
