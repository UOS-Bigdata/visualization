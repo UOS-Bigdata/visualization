{
 "cells": [
  {
   "attachments": {},
   "cell_type": "markdown",
   "metadata": {},
   "source": [
    "## Pandas 리뷰\n",
    "\n",
    "### 리스트로 데이터프레임 만들기\n",
    "1. pandas 설치\n",
    "2. pandas.DataFrame\n",
    "    - numpy array를 DataFrame으로 변환하기\n",
    "    - csv 파일 읽기 \n",
    "    - 회귀모형과 행렬의 곱셈 \n",
    "3. 역행렬의 계산\n",
    "    - numpy.linalg.inv()를 이용한 역행렬의 계산\n",
    "    - 역행렬의 성질 확인\n",
    "\n",
    "\n",
    "### 리스트에서 열과 행 참조하기\n",
    "1. columns의 인자 (열 이름)를 이용한 참조\n",
    "    - [‘names_1’]\n",
    "    - [[‘names_1’, ..., ‘names_k’]]\n",
    "    - [bool vector]\n",
    "2. iloc을 이용한 슬라이싱\n",
    "    - [i,k], [:,k], [j,k]\n",
    "3. loc을 이용한 인덱싱\n",
    "    - [bool vector,:]\n",
    "    - [:, bool vector]"
   ]
  },
  {
   "attachments": {},
   "cell_type": "markdown",
   "metadata": {},
   "source": [
    "### DataFrame의 생성 및 변환\n",
    "1. DataFrame의 열 이름 변경\n",
    "    - columns 객체의 직접 변경\n",
    "    - DataFrame 내의 rename()을 이용\n",
    "2. 데이터 테이블의 join\n",
    "    - key를 이용한 데이터 식별\n",
    "        + 하나의 key를 이용한 데이터 식별\n",
    "        + 두 개 이상의 key를 이용한 데이터 식별\n",
    "    - inner, left, right, outer join\n",
    "3. DataFrame 의 concat\n",
    "    - columns 값이 다른 DataFrame의 row-binding\n",
    "        + 단순한 row-binding 결과 확인\n",
    "        + 열이름 변경 후 row-binding 결과 확인\n",
    "    - DataFrame의 column-binding\n",
    "    - DataFrame의 열 추가"
   ]
  },
  {
   "attachments": {},
   "cell_type": "markdown",
   "metadata": {},
   "source": [
    "### Merge, Concat의 활용\n",
    "1. DataFrame의 열 이름 변경\n",
    "- columns 객체의 직접 변경\n",
    "- DataFrame 내의 rename()을 이용\n",
    "\n",
    "2. 데이터 테이블의 join\n",
    "- key를 이용한 데이터 식별\n",
    "    + 하나의 key를 이용한 데이터 식별\n",
    "    + 두 개 이상의 key를 이용한 데이터 식별\n",
    "- inner, left, right, outer join\n",
    "\n",
    "3. DataFrame 의 concat\n",
    "- columns 값이 다른 DataFrame의 row-binding\n",
    "    + 단순한 row-binding 결과 확인\n",
    "    + 열이름 변경 후 row-binding 결과 확인\n",
    "- DataFrame의 column-binding\n",
    "- DataFrame의 열 추가\n"
   ]
  },
  {
   "attachments": {},
   "cell_type": "markdown",
   "metadata": {},
   "source": [
    "### groupby 문법의 이해"
   ]
  },
  {
   "attachments": {},
   "cell_type": "markdown",
   "metadata": {},
   "source": [
    "1. numpy의 설치\n",
    "- 가상환경의 선택\n",
    "- conda install numpy\n",
    "    Anaconda 설치 경로의 확인:\n",
    "\n",
    "\n",
    "2. 벡터와 행렬의 생성\n",
    "    numpy.array \n",
    "(1) 리스트를 이용한 벡터의 생성\n",
    "(2) numpy.zeros(), numpy.ones()\n",
    "(3) numpy.repeat()\n",
    "(4) 리스트를 이용한 행렬의 생성\n",
    "(5) 대각행렬 생성하기 (numpy.diag())\n",
    "\n",
    "3. 벡터와 행렬의 형태 변환\n",
    "(1) shape 이해하기\n",
    "(2) reshape 이해하기 (order = ‘C’ or ‘F’)\n",
    "----"
   ]
  },
  {
   "cell_type": "code",
   "execution_count": 1,
   "metadata": {},
   "outputs": [],
   "source": [
    "import pandas as pd\n",
    "import numpy as np"
   ]
  },
  {
   "attachments": {},
   "cell_type": "markdown",
   "metadata": {},
   "source": [
    "리스트로부터 DataFrame 생성하기\n",
    "- 리스트를 배열에 맞게 쓴다. 대부분 이차원 테이블형식의 데이터를 다루게 되므로 아래 예제와 같은 형태의 리스트를 입력하게 될 것이다.\n",
    "- 열의 이름을 입력하기 위해서 **columns** 옵션에 문자열 리스트를 입력한다. 문자열 입력값이 없는 경우에는 0부터 시작하는 번호가 입력된다"
   ]
  },
  {
   "cell_type": "code",
   "execution_count": 4,
   "metadata": {},
   "outputs": [
    {
     "name": "stdout",
     "output_type": "stream",
     "text": [
      "   col1  col2\n",
      "0     1     2\n",
      "1     2     3\n"
     ]
    }
   ],
   "source": [
    "a = pd.DataFrame([[1,2],[2,3]], columns = ['col1', 'col2'])\n",
    "print(a)"
   ]
  },
  {
   "cell_type": "code",
   "execution_count": null,
   "metadata": {},
   "outputs": [],
   "source": [
    "path = \"C:/Users/User/Desktop/1인가구_시각화_교육용/1인가구_지수.csv\"\n",
    "data = pd.read_csv(path, encoding='cp949')\n",
    "\n",
    "# 생성하기 csv\n",
    "#data = pd.read_excel('1인가구.xlsx', 0)\n",
    "\n",
    "# 열이름 변경하기\n",
    "a.columns[1] = 'col2-1' #  error\n",
    "a.rename( columns = {a.columns[1]: 'col2-1'})\n",
    "a\n",
    "# Tips! inplace \n",
    "a.rename( columns = {a.columns[1]: 'col2-1'}, inplace = True)\n",
    "a\n",
    "\n",
    "# 참조 및 추출\n",
    "a.iloc[0,:]\n",
    "a.iloc[0,:] = [10,20]\n",
    "a\n",
    "\n",
    "a.loc[:, [True, False]]\n",
    "a.iloc[:, [0]]\n",
    "\n",
    "\n",
    "# 데이터의  추가\n",
    "a.append([[1,2]])\n",
    "# why? 열 이름을 이용하여 병합하기 때문임 \n",
    "\n",
    "# note 1\n",
    "pd.concat([ a, pd.DataFrame([[1,2]]) ], axis = 0)\n",
    "# note 2\n",
    "b = pd.DataFrame([[10,20]])\n",
    "b.columns = a.columns\n",
    "pd.concat([a, b], axis = 0)\n",
    "# note 2-1\n",
    "b = pd.DataFrame([[10,20]], columns = a.columns)\n",
    "pd.concat([a, b], axis = 0)\n",
    "\n",
    "# 실패한 append 를 다음과 같이 병합\n",
    "a.append( pd.DataFrame([[10,20]], columns = a.columns))\n",
    "\n",
    "# 다음과 같은 경우에 편리함. \n",
    "b =  pd.DataFrame([[20,10]], columns = ['col2', 'col1'])\n",
    "b\n",
    "pd.concat([a, b], axis = 0)\n",
    "\n",
    "# random \n",
    "amat = np.random.normal(0,1, size  = (10,2))\n",
    "amat_pdf = pd.DataFrame(amat)\n",
    "v = []\n",
    "for i in range(2):\n",
    "    v.append(\"v\"+ str(i))\n",
    "v\n",
    "amat_pdf.columns = v\n",
    "\n",
    "# iterable객체 활용 tip\n",
    "[\"v\"+str(i) for i in range(2)]\n",
    "\n",
    "# 함수\n",
    "data.head(n=5)\n",
    "data.tail()\n",
    "data.info()\n",
    "data.describe()\n",
    "data.columns\n",
    "\n",
    "#\n",
    "data['1인가구'].sum()\n",
    "data['1인가구'].mean()\n",
    "data['1인가구'].std()\n",
    "data['1인가구'].quantile(0.1)\n",
    "#\n",
    "data.iloc[:,0].unique()\n",
    "data['자치구'].unique()\n",
    "data['자치구'].value_counts()\n",
    "data[['자치구','행정동']].unstack()\n",
    "\n",
    "\n",
    "# 열의 선택\n",
    "data[data['자치구']=='강남구']\n",
    "data[ (data['자치구']=='강남구') & (data['행정동']=='개포1동') ]\n",
    "# 다음과 같은 실수\n",
    "data[ data['자치구']=='강남구' & data['행정동']=='개포1동' ] # error"
   ]
  }
 ],
 "metadata": {
  "kernelspec": {
   "display_name": "tf2",
   "language": "python",
   "name": "python3"
  },
  "language_info": {
   "codemirror_mode": {
    "name": "ipython",
    "version": 3
   },
   "file_extension": ".py",
   "mimetype": "text/x-python",
   "name": "python",
   "nbconvert_exporter": "python",
   "pygments_lexer": "ipython3",
   "version": "3.9.12"
  },
  "orig_nbformat": 4,
  "vscode": {
   "interpreter": {
    "hash": "09d430ac884b7b963decef9a3390e18440a81a639eb9d9528489333ac105a61d"
   }
  }
 },
 "nbformat": 4,
 "nbformat_minor": 2
}
