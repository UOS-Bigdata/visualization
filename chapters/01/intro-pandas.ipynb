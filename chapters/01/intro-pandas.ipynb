{
 "cells": [
  {
   "attachments": {},
   "cell_type": "markdown",
   "metadata": {},
   "source": [
    "## Pandas 리뷰\n",
    "\n",
    "### 리스트로 데이터프레임 만들기\n",
    "1. pandas 설치\n",
    "2. pandas.DataFrame\n",
    "    - numpy array를 DataFrame으로 변환하기\n",
    "    - csv 파일 읽기 \n",
    "    - 회귀모형과 행렬의 곱셈 \n",
    "3. 역행렬의 계산\n",
    "    - numpy.linalg.inv()를 이용한 역행렬의 계산\n",
    "    - 역행렬의 성질 확인\n",
    "\n",
    "\n",
    "### 리스트에서 열과 행 참조하기\n",
    "1. columns의 인자 (열 이름)를 이용한 참조\n",
    "    - [‘names_1’]\n",
    "    - [[‘names_1’, ..., ‘names_k’]]\n",
    "    - [bool vector]\n",
    "2. iloc을 이용한 슬라이싱\n",
    "    - [i,k], [:,k], [j,k]\n",
    "3. loc을 이용한 인덱싱\n",
    "    - [bool vector,:]\n",
    "    - [:, bool vector]"
   ]
  },
  {
   "attachments": {},
   "cell_type": "markdown",
   "metadata": {},
   "source": [
    "### DataFrame의 생성 및 변환\n",
    "1. DataFrame의 열 이름 변경\n",
    "    - columns 객체의 직접 변경\n",
    "    - DataFrame 내의 rename()을 이용\n",
    "\n",
    "2. 데이터 테이블의 join\n",
    "    - key를 이용한 데이터 식별\n",
    "        + 하나의 key를 이용한 데이터 식별\n",
    "        + 두 개 이상의 key를 이용한 데이터 식별\n",
    "    - inner, left, right, outer join\n",
    "\n",
    "3. DataFrame 의 concat\n",
    "    - columns 값이 다른 DataFrame의 row-binding\n",
    "        + 단순한 row-binding 결과 확인\n",
    "        + 열이름 변경 후 row-binding 결과 확인\n",
    "    - DataFrame의 column-binding\n",
    "    - DataFrame의 열 추가"
   ]
  },
  {
   "attachments": {},
   "cell_type": "markdown",
   "metadata": {},
   "source": [
    "### Merge, Concat의 활용\n",
    "1. DataFrame의 열 이름 변경\n",
    "- columns 객체의 직접 변경\n",
    "- DataFrame 내의 rename()을 이용\n",
    "\n",
    "2. 데이터 테이블의 join\n",
    "- key를 이용한 데이터 식별\n",
    "    + 하나의 key를 이용한 데이터 식별\n",
    "    + 두 개 이상의 key를 이용한 데이터 식별\n",
    "- inner, left, right, outer join\n",
    "\n",
    "3. DataFrame 의 concat\n",
    "- columns 값이 다른 DataFrame의 row-binding\n",
    "    + 단순한 row-binding 결과 확인\n",
    "    + 열이름 변경 후 row-binding 결과 확인\n",
    "- DataFrame의 column-binding\n",
    "- DataFrame의 열 추가\n"
   ]
  },
  {
   "attachments": {},
   "cell_type": "markdown",
   "metadata": {},
   "source": [
    "### groupby 문법의 이해"
   ]
  },
  {
   "attachments": {},
   "cell_type": "markdown",
   "metadata": {},
   "source": [
    "1. numpy의 설치\n",
    "- 가상환경의 선택\n",
    "- conda install numpy\n",
    "    Anaconda 설치 경로의 확인:\n",
    "\n",
    "\n",
    "2. 벡터와 행렬의 생성\n",
    "    numpy.array \n",
    "(1) 리스트를 이용한 벡터의 생성\n",
    "(2) numpy.zeros(), numpy.ones()\n",
    "(3) numpy.repeat()\n",
    "(4) 리스트를 이용한 행렬의 생성\n",
    "(5) 대각행렬 생성하기 (numpy.diag())\n",
    "\n",
    "3. 벡터와 행렬의 형태 변환\n",
    "(1) shape 이해하기\n",
    "(2) reshape 이해하기 (order = ‘C’ or ‘F’)\n",
    "----"
   ]
  },
  {
   "cell_type": "code",
   "execution_count": 2,
   "metadata": {},
   "outputs": [],
   "source": [
    "import pandas as pd\n",
    "url =\"https://ilovedata.github.io/teaching/bigdata2/data/train-data-01.csv\"\n",
    "train_raw_data = pd.read_csv(url)"
   ]
  },
  {
   "attachments": {},
   "cell_type": "markdown",
   "metadata": {},
   "source": [
    "![excel](../../images/excel-file.png)"
   ]
  },
  {
   "cell_type": "code",
   "execution_count": null,
   "metadata": {},
   "outputs": [],
   "source": []
  }
 ],
 "metadata": {
  "kernelspec": {
   "display_name": "tf2",
   "language": "python",
   "name": "python3"
  },
  "language_info": {
   "codemirror_mode": {
    "name": "ipython",
    "version": 3
   },
   "file_extension": ".py",
   "mimetype": "text/x-python",
   "name": "python",
   "nbconvert_exporter": "python",
   "pygments_lexer": "ipython3",
   "version": "3.9.12 (main, Apr  4 2022, 05:22:27) [MSC v.1916 64 bit (AMD64)]"
  },
  "orig_nbformat": 4,
  "vscode": {
   "interpreter": {
    "hash": "09d430ac884b7b963decef9a3390e18440a81a639eb9d9528489333ac105a61d"
   }
  }
 },
 "nbformat": 4,
 "nbformat_minor": 2
}
