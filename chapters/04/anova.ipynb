{
 "cells": [
  {
   "attachments": {},
   "cell_type": "markdown",
   "metadata": {},
   "source": [
    "## 분산분석\n"
   ]
  },
  {
   "cell_type": "code",
   "execution_count": 2,
   "metadata": {},
   "outputs": [],
   "source": [
    "import numpy as np\n",
    "import pandas as pd\n",
    "import matplotlib.pyplot as plt\n",
    "import statsmodels.api as sm\n",
    "from statsmodels.formula.api import ols       # 4-1-1\n",
    "from statsmodels.stats.anova import anova_lm  # 4-1-1"
   ]
  },
  {
   "cell_type": "code",
   "execution_count": 3,
   "metadata": {},
   "outputs": [],
   "source": [
    "pd.options.display.float_format = '{:.4f}'.format   # 소수점 표현 setting"
   ]
  },
  {
   "attachments": {},
   "cell_type": "markdown",
   "metadata": {},
   "source": [
    "먼저 poison 데이터를 불러보겠습니다. poison 데이터는 아래의 url을 통해서 csv 파일의 형태로 다운로드 가능합니다. poison 데이터셋을 간단하게 살펴봅시다. "
   ]
  },
  {
   "cell_type": "code",
   "execution_count": 4,
   "metadata": {},
   "outputs": [
    {
     "data": {
      "text/html": [
       "<div>\n",
       "<style scoped>\n",
       "    .dataframe tbody tr th:only-of-type {\n",
       "        vertical-align: middle;\n",
       "    }\n",
       "\n",
       "    .dataframe tbody tr th {\n",
       "        vertical-align: top;\n",
       "    }\n",
       "\n",
       "    .dataframe thead th {\n",
       "        text-align: right;\n",
       "    }\n",
       "</style>\n",
       "<table border=\"1\" class=\"dataframe\">\n",
       "  <thead>\n",
       "    <tr style=\"text-align: right;\">\n",
       "      <th></th>\n",
       "      <th>time</th>\n",
       "      <th>poison</th>\n",
       "      <th>treat</th>\n",
       "    </tr>\n",
       "  </thead>\n",
       "  <tbody>\n",
       "    <tr>\n",
       "      <th>0</th>\n",
       "      <td>0.3100</td>\n",
       "      <td>G1</td>\n",
       "      <td>A</td>\n",
       "    </tr>\n",
       "    <tr>\n",
       "      <th>1</th>\n",
       "      <td>0.4500</td>\n",
       "      <td>G1</td>\n",
       "      <td>A</td>\n",
       "    </tr>\n",
       "    <tr>\n",
       "      <th>2</th>\n",
       "      <td>0.4600</td>\n",
       "      <td>G1</td>\n",
       "      <td>A</td>\n",
       "    </tr>\n",
       "    <tr>\n",
       "      <th>3</th>\n",
       "      <td>0.4300</td>\n",
       "      <td>G1</td>\n",
       "      <td>A</td>\n",
       "    </tr>\n",
       "    <tr>\n",
       "      <th>4</th>\n",
       "      <td>0.3600</td>\n",
       "      <td>G2</td>\n",
       "      <td>A</td>\n",
       "    </tr>\n",
       "  </tbody>\n",
       "</table>\n",
       "</div>"
      ],
      "text/plain": [
       "    time poison treat\n",
       "0 0.3100     G1     A\n",
       "1 0.4500     G1     A\n",
       "2 0.4600     G1     A\n",
       "3 0.4300     G1     A\n",
       "4 0.3600     G2     A"
      ]
     },
     "execution_count": 4,
     "metadata": {},
     "output_type": "execute_result"
    }
   ],
   "source": [
    "path_file = \"http://ranking.uos.ac.kr/class/VIS/data/\" # insert poison file path\n",
    "poi = pd.read_csv(path_file + 'poison.csv')\n",
    "poi.head()"
   ]
  },
  {
   "attachments": {},
   "cell_type": "markdown",
   "metadata": {},
   "source": [
    "데이터 값을 확률모형의 관점에서 보면 아래와 같이 분류할 수 있을 것입니다.\n",
    "- 연속형 반응변수 : survival time\n",
    "- 명목형 설명변수 : treatment and poison\n",
    "\n",
    "이 poison 데이터는 어떤 실험의 결과를 정리한 것인지 알아보겠습니다.\n",
    "\n",
    "- 데이터 설명\n",
    "    + three poisons and (b) four treatments. Each combination of the two factors is used for four animals. The allocation to animals is completely randomized.\n",
    "    + A data frame with 48 observations on the following 3 variables.\n",
    "        * poison type of poison (1, 2, or 3)\n",
    "        * treatment manner of treatment (1, 2, 3, or 4)\n",
    "        * time time until death (hours)\n",
    "    + These data are also available from OzDASL, the Australian Data and Story Library (https://dasl.datadescription.com/). (Note: The time measurements of the data at OzDASL are in units of tens of hours.)"
   ]
  },
  {
   "attachments": {},
   "cell_type": "markdown",
   "metadata": {},
   "source": [
    "Poison 데이터 분석에서 관심이 있는 것은 독성의 종류, 동물의 종류에 따른 생존시간의 차이일 것입니다. 기본적인 질문은  독성의 종류에 따라 혹은 동물의 종류에 따라 생존시간의 평균에 대한 차이가 있는지에 대한 것입니다.\n",
    "\n",
    "이 질문에 대답하기 전에 먼저 데이터의 기초 통계량을 확인해봅시다. 기초통계량 및 데이터의 형식을 확인하기 위해서 아래 pandas 함수를 사용합니다.\n",
    "+ 정보: info()\n",
    "+ 데이터타입: dtypes\n",
    "+ 요약통계량: describle(include ='all')\n",
    "+ group_by를 활용한 기초통계량 구하기 "
   ]
  },
  {
   "cell_type": "code",
   "execution_count": 5,
   "metadata": {},
   "outputs": [
    {
     "name": "stdout",
     "output_type": "stream",
     "text": [
      "<class 'pandas.core.frame.DataFrame'>\n",
      "RangeIndex: 48 entries, 0 to 47\n",
      "Data columns (total 3 columns):\n",
      " #   Column  Non-Null Count  Dtype  \n",
      "---  ------  --------------  -----  \n",
      " 0   time    48 non-null     float64\n",
      " 1   poison  48 non-null     object \n",
      " 2   treat   48 non-null     object \n",
      "dtypes: float64(1), object(2)\n",
      "memory usage: 1.2+ KB\n"
     ]
    }
   ],
   "source": [
    "poi.info()"
   ]
  },
  {
   "cell_type": "code",
   "execution_count": 6,
   "metadata": {},
   "outputs": [
    {
     "data": {
      "text/plain": [
       "time      float64\n",
       "poison     object\n",
       "treat      object\n",
       "dtype: object"
      ]
     },
     "execution_count": 6,
     "metadata": {},
     "output_type": "execute_result"
    }
   ],
   "source": [
    "poi.dtypes"
   ]
  },
  {
   "cell_type": "code",
   "execution_count": 7,
   "metadata": {},
   "outputs": [
    {
     "data": {
      "text/html": [
       "<div>\n",
       "<style scoped>\n",
       "    .dataframe tbody tr th:only-of-type {\n",
       "        vertical-align: middle;\n",
       "    }\n",
       "\n",
       "    .dataframe tbody tr th {\n",
       "        vertical-align: top;\n",
       "    }\n",
       "\n",
       "    .dataframe thead th {\n",
       "        text-align: right;\n",
       "    }\n",
       "</style>\n",
       "<table border=\"1\" class=\"dataframe\">\n",
       "  <thead>\n",
       "    <tr style=\"text-align: right;\">\n",
       "      <th></th>\n",
       "      <th>time</th>\n",
       "      <th>poison</th>\n",
       "      <th>treat</th>\n",
       "    </tr>\n",
       "  </thead>\n",
       "  <tbody>\n",
       "    <tr>\n",
       "      <th>count</th>\n",
       "      <td>48.0000</td>\n",
       "      <td>48</td>\n",
       "      <td>48</td>\n",
       "    </tr>\n",
       "    <tr>\n",
       "      <th>unique</th>\n",
       "      <td>NaN</td>\n",
       "      <td>3</td>\n",
       "      <td>4</td>\n",
       "    </tr>\n",
       "    <tr>\n",
       "      <th>top</th>\n",
       "      <td>NaN</td>\n",
       "      <td>G1</td>\n",
       "      <td>A</td>\n",
       "    </tr>\n",
       "    <tr>\n",
       "      <th>freq</th>\n",
       "      <td>NaN</td>\n",
       "      <td>16</td>\n",
       "      <td>12</td>\n",
       "    </tr>\n",
       "    <tr>\n",
       "      <th>mean</th>\n",
       "      <td>0.4794</td>\n",
       "      <td>NaN</td>\n",
       "      <td>NaN</td>\n",
       "    </tr>\n",
       "    <tr>\n",
       "      <th>std</th>\n",
       "      <td>0.2529</td>\n",
       "      <td>NaN</td>\n",
       "      <td>NaN</td>\n",
       "    </tr>\n",
       "    <tr>\n",
       "      <th>min</th>\n",
       "      <td>0.1800</td>\n",
       "      <td>NaN</td>\n",
       "      <td>NaN</td>\n",
       "    </tr>\n",
       "    <tr>\n",
       "      <th>25%</th>\n",
       "      <td>0.3000</td>\n",
       "      <td>NaN</td>\n",
       "      <td>NaN</td>\n",
       "    </tr>\n",
       "    <tr>\n",
       "      <th>50%</th>\n",
       "      <td>0.4000</td>\n",
       "      <td>NaN</td>\n",
       "      <td>NaN</td>\n",
       "    </tr>\n",
       "    <tr>\n",
       "      <th>75%</th>\n",
       "      <td>0.6225</td>\n",
       "      <td>NaN</td>\n",
       "      <td>NaN</td>\n",
       "    </tr>\n",
       "    <tr>\n",
       "      <th>max</th>\n",
       "      <td>1.2400</td>\n",
       "      <td>NaN</td>\n",
       "      <td>NaN</td>\n",
       "    </tr>\n",
       "  </tbody>\n",
       "</table>\n",
       "</div>"
      ],
      "text/plain": [
       "          time poison treat\n",
       "count  48.0000     48    48\n",
       "unique     NaN      3     4\n",
       "top        NaN     G1     A\n",
       "freq       NaN     16    12\n",
       "mean    0.4794    NaN   NaN\n",
       "std     0.2529    NaN   NaN\n",
       "min     0.1800    NaN   NaN\n",
       "25%     0.3000    NaN   NaN\n",
       "50%     0.4000    NaN   NaN\n",
       "75%     0.6225    NaN   NaN\n",
       "max     1.2400    NaN   NaN"
      ]
     },
     "execution_count": 7,
     "metadata": {},
     "output_type": "execute_result"
    }
   ],
   "source": [
    "poi.describe(include='all')"
   ]
  },
  {
   "cell_type": "code",
   "execution_count": 8,
   "metadata": {},
   "outputs": [
    {
     "data": {
      "text/html": [
       "<div>\n",
       "<style scoped>\n",
       "    .dataframe tbody tr th:only-of-type {\n",
       "        vertical-align: middle;\n",
       "    }\n",
       "\n",
       "    .dataframe tbody tr th {\n",
       "        vertical-align: top;\n",
       "    }\n",
       "\n",
       "    .dataframe thead th {\n",
       "        text-align: right;\n",
       "    }\n",
       "</style>\n",
       "<table border=\"1\" class=\"dataframe\">\n",
       "  <thead>\n",
       "    <tr style=\"text-align: right;\">\n",
       "      <th></th>\n",
       "      <th></th>\n",
       "      <th>time</th>\n",
       "    </tr>\n",
       "    <tr>\n",
       "      <th>poison</th>\n",
       "      <th>treat</th>\n",
       "      <th></th>\n",
       "    </tr>\n",
       "  </thead>\n",
       "  <tbody>\n",
       "    <tr>\n",
       "      <th rowspan=\"4\" valign=\"top\">G1</th>\n",
       "      <th>A</th>\n",
       "      <td>4</td>\n",
       "    </tr>\n",
       "    <tr>\n",
       "      <th>B</th>\n",
       "      <td>4</td>\n",
       "    </tr>\n",
       "    <tr>\n",
       "      <th>C</th>\n",
       "      <td>4</td>\n",
       "    </tr>\n",
       "    <tr>\n",
       "      <th>D</th>\n",
       "      <td>4</td>\n",
       "    </tr>\n",
       "    <tr>\n",
       "      <th rowspan=\"4\" valign=\"top\">G2</th>\n",
       "      <th>A</th>\n",
       "      <td>4</td>\n",
       "    </tr>\n",
       "    <tr>\n",
       "      <th>B</th>\n",
       "      <td>4</td>\n",
       "    </tr>\n",
       "    <tr>\n",
       "      <th>C</th>\n",
       "      <td>4</td>\n",
       "    </tr>\n",
       "    <tr>\n",
       "      <th>D</th>\n",
       "      <td>4</td>\n",
       "    </tr>\n",
       "    <tr>\n",
       "      <th rowspan=\"4\" valign=\"top\">G3</th>\n",
       "      <th>A</th>\n",
       "      <td>4</td>\n",
       "    </tr>\n",
       "    <tr>\n",
       "      <th>B</th>\n",
       "      <td>4</td>\n",
       "    </tr>\n",
       "    <tr>\n",
       "      <th>C</th>\n",
       "      <td>4</td>\n",
       "    </tr>\n",
       "    <tr>\n",
       "      <th>D</th>\n",
       "      <td>4</td>\n",
       "    </tr>\n",
       "  </tbody>\n",
       "</table>\n",
       "</div>"
      ],
      "text/plain": [
       "              time\n",
       "poison treat      \n",
       "G1     A         4\n",
       "       B         4\n",
       "       C         4\n",
       "       D         4\n",
       "G2     A         4\n",
       "       B         4\n",
       "       C         4\n",
       "       D         4\n",
       "G3     A         4\n",
       "       B         4\n",
       "       C         4\n",
       "       D         4"
      ]
     },
     "execution_count": 8,
     "metadata": {},
     "output_type": "execute_result"
    }
   ],
   "source": [
    "poi.groupby(by=['poison', 'treat']).count()"
   ]
  },
  {
   "cell_type": "code",
   "execution_count": 9,
   "metadata": {},
   "outputs": [
    {
     "data": {
      "text/html": [
       "<div>\n",
       "<style scoped>\n",
       "    .dataframe tbody tr th:only-of-type {\n",
       "        vertical-align: middle;\n",
       "    }\n",
       "\n",
       "    .dataframe tbody tr th {\n",
       "        vertical-align: top;\n",
       "    }\n",
       "\n",
       "    .dataframe thead th {\n",
       "        text-align: right;\n",
       "    }\n",
       "</style>\n",
       "<table border=\"1\" class=\"dataframe\">\n",
       "  <thead>\n",
       "    <tr style=\"text-align: right;\">\n",
       "      <th></th>\n",
       "      <th>time</th>\n",
       "    </tr>\n",
       "    <tr>\n",
       "      <th>poison</th>\n",
       "      <th></th>\n",
       "    </tr>\n",
       "  </thead>\n",
       "  <tbody>\n",
       "    <tr>\n",
       "      <th>G1</th>\n",
       "      <td>0.6175</td>\n",
       "    </tr>\n",
       "    <tr>\n",
       "      <th>G2</th>\n",
       "      <td>0.5444</td>\n",
       "    </tr>\n",
       "    <tr>\n",
       "      <th>G3</th>\n",
       "      <td>0.2762</td>\n",
       "    </tr>\n",
       "  </tbody>\n",
       "</table>\n",
       "</div>"
      ],
      "text/plain": [
       "         time\n",
       "poison       \n",
       "G1     0.6175\n",
       "G2     0.5444\n",
       "G3     0.2762"
      ]
     },
     "execution_count": 9,
     "metadata": {},
     "output_type": "execute_result"
    }
   ],
   "source": [
    "poi.groupby(by=['poison']).mean()"
   ]
  },
  {
   "cell_type": "code",
   "execution_count": 12,
   "metadata": {},
   "outputs": [
    {
     "data": {
      "text/html": [
       "<div>\n",
       "<style scoped>\n",
       "    .dataframe tbody tr th:only-of-type {\n",
       "        vertical-align: middle;\n",
       "    }\n",
       "\n",
       "    .dataframe tbody tr th {\n",
       "        vertical-align: top;\n",
       "    }\n",
       "\n",
       "    .dataframe thead th {\n",
       "        text-align: right;\n",
       "    }\n",
       "</style>\n",
       "<table border=\"1\" class=\"dataframe\">\n",
       "  <thead>\n",
       "    <tr style=\"text-align: right;\">\n",
       "      <th></th>\n",
       "      <th>time</th>\n",
       "    </tr>\n",
       "    <tr>\n",
       "      <th>treat</th>\n",
       "      <th></th>\n",
       "    </tr>\n",
       "  </thead>\n",
       "  <tbody>\n",
       "    <tr>\n",
       "      <th>A</th>\n",
       "      <td>0.3142</td>\n",
       "    </tr>\n",
       "    <tr>\n",
       "      <th>B</th>\n",
       "      <td>0.6767</td>\n",
       "    </tr>\n",
       "    <tr>\n",
       "      <th>C</th>\n",
       "      <td>0.3925</td>\n",
       "    </tr>\n",
       "    <tr>\n",
       "      <th>D</th>\n",
       "      <td>0.5342</td>\n",
       "    </tr>\n",
       "  </tbody>\n",
       "</table>\n",
       "</div>"
      ],
      "text/plain": [
       "        time\n",
       "treat       \n",
       "A     0.3142\n",
       "B     0.6767\n",
       "C     0.3925\n",
       "D     0.5342"
      ]
     },
     "execution_count": 12,
     "metadata": {},
     "output_type": "execute_result"
    }
   ],
   "source": [
    "poi.groupby(by=['treat']).mean()"
   ]
  },
  {
   "attachments": {},
   "cell_type": "markdown",
   "metadata": {},
   "source": [
    "주로 group_by 문을 이용하여 평균을 계산하고 비교하였습니다. 이렇게 통계량을 직접 비교하는 것은 집단의 차이를 직관적으로 이해하는데 큰 도움을 줄 수 있습니다. 하지만 지속적으로 평균의 차이를 모니터링 해야하거나 대규모 평균비교 작업을 매우 빠르게 해야하거나 혹은 평균 차이에 대한 과학적 추론 및 분석이 필요한 경우 ANOVA(Analysis of Variance)는 매우 편리한 분석도구 입니다.\n",
    "\n",
    "우리에게 주어진 데이터에서 생존시간 평균의 차이를 독성의 종류, 동물의 종류에 따라 각각 분석을 할 수 있고 두 요인을 한꺼번에 고려하여 분석할 수도 있습니다.\n",
    "\n",
    "분석도구는 아래와 같습니다\n",
    "\n",
    "- statsmodels.formula.api 의 ols를 이용하여 일원(이원)배치 분산분석 모형 적합합니다.\n",
    "- statsmodels.stats.anova 의 anova_lm을 이용하여 분산분석 테이블 확인합니다.\n",
    "- 요인마다 제곱합(SS), 자유도(df)를 확인하고 F값과 p-value의 해석합니다.\n",
    "\n",
    "(참고) statsmodels.formula.api 의 formula는 text 로 표현된 식을 입력 변수들로 parsing 해주는 기능을 가지고 있습니다. 예를 들어 \"time~poison\" 은 formula 에 대응하는 text 로 반응변수를 time으로 설명변수를 상수항과 poison 으로 설정합니다."
   ]
  },
  {
   "cell_type": "code",
   "execution_count": 11,
   "metadata": {},
   "outputs": [
    {
     "data": {
      "text/html": [
       "<div>\n",
       "<style scoped>\n",
       "    .dataframe tbody tr th:only-of-type {\n",
       "        vertical-align: middle;\n",
       "    }\n",
       "\n",
       "    .dataframe tbody tr th {\n",
       "        vertical-align: top;\n",
       "    }\n",
       "\n",
       "    .dataframe thead th {\n",
       "        text-align: right;\n",
       "    }\n",
       "</style>\n",
       "<table border=\"1\" class=\"dataframe\">\n",
       "  <thead>\n",
       "    <tr style=\"text-align: right;\">\n",
       "      <th></th>\n",
       "      <th>df</th>\n",
       "      <th>sum_sq</th>\n",
       "      <th>mean_sq</th>\n",
       "      <th>F</th>\n",
       "      <th>PR(&gt;F)</th>\n",
       "    </tr>\n",
       "  </thead>\n",
       "  <tbody>\n",
       "    <tr>\n",
       "      <th>poison</th>\n",
       "      <td>2.0000</td>\n",
       "      <td>1.0330</td>\n",
       "      <td>0.5165</td>\n",
       "      <td>11.7860</td>\n",
       "      <td>0.0001</td>\n",
       "    </tr>\n",
       "    <tr>\n",
       "      <th>Residual</th>\n",
       "      <td>45.0000</td>\n",
       "      <td>1.9721</td>\n",
       "      <td>0.0438</td>\n",
       "      <td>NaN</td>\n",
       "      <td>NaN</td>\n",
       "    </tr>\n",
       "  </tbody>\n",
       "</table>\n",
       "</div>"
      ],
      "text/plain": [
       "              df  sum_sq  mean_sq       F  PR(>F)\n",
       "poison    2.0000  1.0330   0.5165 11.7860  0.0001\n",
       "Residual 45.0000  1.9721   0.0438     NaN     NaN"
      ]
     },
     "execution_count": 11,
     "metadata": {},
     "output_type": "execute_result"
    }
   ],
   "source": [
    "one_way_anova = ols('time ~ poison', poi).fit()\n",
    "result_oneway = anova_lm(one_way_anova)\n",
    "result_oneway"
   ]
  },
  {
   "attachments": {},
   "cell_type": "markdown",
   "metadata": {},
   "source": [
    "- 일원분산분석과 마찬가지로 ols, anova_lm을 이용하여 이원분산분석 모형 적합합니다\n",
    "- 분산분석 테이블을 이용하여 각 요인인 poison, treat에 따라서 집단간 반응변수의 평균의 차이가 있는지 확인합니다.\n",
    "- poison * treat의 교호작용 확인"
   ]
  },
  {
   "cell_type": "code",
   "execution_count": 12,
   "metadata": {},
   "outputs": [
    {
     "data": {
      "text/html": [
       "<div>\n",
       "<style scoped>\n",
       "    .dataframe tbody tr th:only-of-type {\n",
       "        vertical-align: middle;\n",
       "    }\n",
       "\n",
       "    .dataframe tbody tr th {\n",
       "        vertical-align: top;\n",
       "    }\n",
       "\n",
       "    .dataframe thead th {\n",
       "        text-align: right;\n",
       "    }\n",
       "</style>\n",
       "<table border=\"1\" class=\"dataframe\">\n",
       "  <thead>\n",
       "    <tr style=\"text-align: right;\">\n",
       "      <th></th>\n",
       "      <th>df</th>\n",
       "      <th>sum_sq</th>\n",
       "      <th>mean_sq</th>\n",
       "      <th>F</th>\n",
       "      <th>PR(&gt;F)</th>\n",
       "    </tr>\n",
       "  </thead>\n",
       "  <tbody>\n",
       "    <tr>\n",
       "      <th>poison</th>\n",
       "      <td>2.0000</td>\n",
       "      <td>1.0330</td>\n",
       "      <td>0.5165</td>\n",
       "      <td>20.6433</td>\n",
       "      <td>0.0000</td>\n",
       "    </tr>\n",
       "    <tr>\n",
       "      <th>treat</th>\n",
       "      <td>3.0000</td>\n",
       "      <td>0.9212</td>\n",
       "      <td>0.3071</td>\n",
       "      <td>12.2727</td>\n",
       "      <td>0.0000</td>\n",
       "    </tr>\n",
       "    <tr>\n",
       "      <th>Residual</th>\n",
       "      <td>42.0000</td>\n",
       "      <td>1.0509</td>\n",
       "      <td>0.0250</td>\n",
       "      <td>NaN</td>\n",
       "      <td>NaN</td>\n",
       "    </tr>\n",
       "  </tbody>\n",
       "</table>\n",
       "</div>"
      ],
      "text/plain": [
       "              df  sum_sq  mean_sq       F  PR(>F)\n",
       "poison    2.0000  1.0330   0.5165 20.6433  0.0000\n",
       "treat     3.0000  0.9212   0.3071 12.2727  0.0000\n",
       "Residual 42.0000  1.0509   0.0250     NaN     NaN"
      ]
     },
     "execution_count": 12,
     "metadata": {},
     "output_type": "execute_result"
    }
   ],
   "source": [
    "two_way_anova = ols('time ~ poison + treat', poi).fit()\n",
    "result_twoway = anova_lm(two_way_anova)\n",
    "result_twoway"
   ]
  },
  {
   "attachments": {},
   "cell_type": "markdown",
   "metadata": {},
   "source": [
    "formula에 poison * treat 를 사용하여 교호작용을 확인할 수 있습니다."
   ]
  },
  {
   "cell_type": "code",
   "execution_count": 13,
   "metadata": {},
   "outputs": [
    {
     "data": {
      "text/html": [
       "<div>\n",
       "<style scoped>\n",
       "    .dataframe tbody tr th:only-of-type {\n",
       "        vertical-align: middle;\n",
       "    }\n",
       "\n",
       "    .dataframe tbody tr th {\n",
       "        vertical-align: top;\n",
       "    }\n",
       "\n",
       "    .dataframe thead th {\n",
       "        text-align: right;\n",
       "    }\n",
       "</style>\n",
       "<table border=\"1\" class=\"dataframe\">\n",
       "  <thead>\n",
       "    <tr style=\"text-align: right;\">\n",
       "      <th></th>\n",
       "      <th>df</th>\n",
       "      <th>sum_sq</th>\n",
       "      <th>mean_sq</th>\n",
       "      <th>F</th>\n",
       "      <th>PR(&gt;F)</th>\n",
       "    </tr>\n",
       "  </thead>\n",
       "  <tbody>\n",
       "    <tr>\n",
       "      <th>poison</th>\n",
       "      <td>2.0000</td>\n",
       "      <td>1.0330</td>\n",
       "      <td>0.5165</td>\n",
       "      <td>23.2217</td>\n",
       "      <td>0.0000</td>\n",
       "    </tr>\n",
       "    <tr>\n",
       "      <th>treat</th>\n",
       "      <td>3.0000</td>\n",
       "      <td>0.9212</td>\n",
       "      <td>0.3071</td>\n",
       "      <td>13.8056</td>\n",
       "      <td>0.0000</td>\n",
       "    </tr>\n",
       "    <tr>\n",
       "      <th>poison:treat</th>\n",
       "      <td>6.0000</td>\n",
       "      <td>0.2501</td>\n",
       "      <td>0.0417</td>\n",
       "      <td>1.8743</td>\n",
       "      <td>0.1123</td>\n",
       "    </tr>\n",
       "    <tr>\n",
       "      <th>Residual</th>\n",
       "      <td>36.0000</td>\n",
       "      <td>0.8007</td>\n",
       "      <td>0.0222</td>\n",
       "      <td>NaN</td>\n",
       "      <td>NaN</td>\n",
       "    </tr>\n",
       "  </tbody>\n",
       "</table>\n",
       "</div>"
      ],
      "text/plain": [
       "                  df  sum_sq  mean_sq       F  PR(>F)\n",
       "poison        2.0000  1.0330   0.5165 23.2217  0.0000\n",
       "treat         3.0000  0.9212   0.3071 13.8056  0.0000\n",
       "poison:treat  6.0000  0.2501   0.0417  1.8743  0.1123\n",
       "Residual     36.0000  0.8007   0.0222     NaN     NaN"
      ]
     },
     "execution_count": 13,
     "metadata": {},
     "output_type": "execute_result"
    }
   ],
   "source": [
    "two_way_anova = ols('time ~ poison + treat+ poison*treat', poi).fit()\n",
    "result_twoway = anova_lm(two_way_anova)\n",
    "result_twoway"
   ]
  },
  {
   "attachments": {},
   "cell_type": "markdown",
   "metadata": {},
   "source": [
    "ANOVA의 결과 p-value를 통해 평균의 차이 교호효과의 유무를 확인할 수 있습니다. 그렇다면 ANOVA의 결과를 어떻게 시각화할 수 있을까요? p-value를 보여주는 것이 효과적일까요?\n",
    "\n",
    "만약 평균비교를 매우 빈번하게 해야하고 평균의 차이에 대한 유무만을 확인하는 것이 목적이라면 p-value의 값을 막대그래프로 보여주는 것이 유용할 것입니다. 하지만 p-value는 평균의 차이가 있는지 그렇지 않은지를 나타낼 뿐 평균의 차이 혹은 그룹간의 평균값을 보여주지는 않습니다. 따라서 그룹의 평균을 직접 시각화하는 것이 유용한 경우가 많습니다. \n",
    "\n",
    "아래와 같이 ANOVA의 분석결과를 시각화 해봅시다.\n",
    "- 종속변수 time의 독립변수 poison에 대한 상자그림과 산점도를 그립니다.\n",
    "- poison에 따른 time의 평균과 분포는 어떤 차이를 확인합니다\n",
    "- poison 변수의 값을 기준으로 데이터를 나누기 위해서 값을 확인해봅니다."
   ]
  },
  {
   "cell_type": "code",
   "execution_count": 15,
   "metadata": {},
   "outputs": [
    {
     "data": {
      "text/plain": [
       "G1    16\n",
       "G2    16\n",
       "G3    16\n",
       "Name: poison, dtype: int64"
      ]
     },
     "execution_count": 15,
     "metadata": {},
     "output_type": "execute_result"
    }
   ],
   "source": [
    "poi['poison'].value_counts()"
   ]
  },
  {
   "attachments": {},
   "cell_type": "markdown",
   "metadata": {},
   "source": [
    "- 확인한 poison의 값을 이용하여 데이터를 나눕니다. "
   ]
  },
  {
   "cell_type": "code",
   "execution_count": 16,
   "metadata": {},
   "outputs": [],
   "source": [
    "x1 = poi['time'][poi['poison']=='G1']\n",
    "x2 = poi['time'][poi['poison']=='G2']\n",
    "x3 = poi['time'][poi['poison']=='G3']"
   ]
  },
  {
   "attachments": {},
   "cell_type": "markdown",
   "metadata": {},
   "source": [
    "- 그래픽 스타일을 'ggplot'으로 변경합니다."
   ]
  },
  {
   "cell_type": "code",
   "execution_count": 17,
   "metadata": {},
   "outputs": [],
   "source": [
    "plt.style.use('ggplot')"
   ]
  },
  {
   "attachments": {},
   "cell_type": "markdown",
   "metadata": {},
   "source": [
    "- 집단별로 상자그림을 그립니다."
   ]
  },
  {
   "cell_type": "code",
   "execution_count": 18,
   "metadata": {},
   "outputs": [
    {
     "data": {
      "text/plain": [
       "Text(0, 0.5, 'Y: time')"
      ]
     },
     "execution_count": 18,
     "metadata": {},
     "output_type": "execute_result"
    },
    {
     "data": {
      "image/png": "[encoded data removed]",
      "text/plain": [
       "<Figure size 432x288 with 1 Axes>"
      ]
     },
     "metadata": {},
     "output_type": "display_data"
    }
   ],
   "source": [
    "fig, ax = plt.subplots()\n",
    "ax.boxplot([x1,x2,x3])\n",
    "ax.set_xticks([1,2,3],['G1','G2','G3'])\n",
    "ax.set_title('Example: boxplot')\n",
    "ax.set_xlabel(\"X: poison\")\n",
    "ax.set_ylabel(\"Y: time\")"
   ]
  },
  {
   "attachments": {},
   "cell_type": "markdown",
   "metadata": {},
   "source": [
    "- 분산분석을 위한 기초통계량을 계산합니다.\n",
    "  + groupby 를 이용하여 평균과 분산을 계산합니다.\n",
    "  + 계산된 결과를 합쳐서 출력합니다. "
   ]
  },
  {
   "cell_type": "code",
   "execution_count": 19,
   "metadata": {},
   "outputs": [
    {
     "data": {
      "text/html": [
       "<div>\n",
       "<style scoped>\n",
       "    .dataframe tbody tr th:only-of-type {\n",
       "        vertical-align: middle;\n",
       "    }\n",
       "\n",
       "    .dataframe tbody tr th {\n",
       "        vertical-align: top;\n",
       "    }\n",
       "\n",
       "    .dataframe thead th {\n",
       "        text-align: right;\n",
       "    }\n",
       "</style>\n",
       "<table border=\"1\" class=\"dataframe\">\n",
       "  <thead>\n",
       "    <tr style=\"text-align: right;\">\n",
       "      <th></th>\n",
       "      <th></th>\n",
       "      <th>mean</th>\n",
       "      <th>std</th>\n",
       "    </tr>\n",
       "    <tr>\n",
       "      <th>poison</th>\n",
       "      <th>treat</th>\n",
       "      <th></th>\n",
       "      <th></th>\n",
       "    </tr>\n",
       "  </thead>\n",
       "  <tbody>\n",
       "    <tr>\n",
       "      <th rowspan=\"4\" valign=\"top\">G1</th>\n",
       "      <th>A</th>\n",
       "      <td>0.4125</td>\n",
       "      <td>0.0695</td>\n",
       "    </tr>\n",
       "    <tr>\n",
       "      <th>B</th>\n",
       "      <td>0.8800</td>\n",
       "      <td>0.1608</td>\n",
       "    </tr>\n",
       "    <tr>\n",
       "      <th>C</th>\n",
       "      <td>0.5675</td>\n",
       "      <td>0.1567</td>\n",
       "    </tr>\n",
       "    <tr>\n",
       "      <th>D</th>\n",
       "      <td>0.6100</td>\n",
       "      <td>0.1128</td>\n",
       "    </tr>\n",
       "    <tr>\n",
       "      <th rowspan=\"4\" valign=\"top\">G2</th>\n",
       "      <th>A</th>\n",
       "      <td>0.3200</td>\n",
       "      <td>0.0753</td>\n",
       "    </tr>\n",
       "    <tr>\n",
       "      <th>B</th>\n",
       "      <td>0.8150</td>\n",
       "      <td>0.3363</td>\n",
       "    </tr>\n",
       "    <tr>\n",
       "      <th>C</th>\n",
       "      <td>0.3750</td>\n",
       "      <td>0.0569</td>\n",
       "    </tr>\n",
       "    <tr>\n",
       "      <th>D</th>\n",
       "      <td>0.6675</td>\n",
       "      <td>0.2710</td>\n",
       "    </tr>\n",
       "    <tr>\n",
       "      <th rowspan=\"4\" valign=\"top\">G3</th>\n",
       "      <th>A</th>\n",
       "      <td>0.2100</td>\n",
       "      <td>0.0216</td>\n",
       "    </tr>\n",
       "    <tr>\n",
       "      <th>B</th>\n",
       "      <td>0.3350</td>\n",
       "      <td>0.0465</td>\n",
       "    </tr>\n",
       "    <tr>\n",
       "      <th>C</th>\n",
       "      <td>0.2350</td>\n",
       "      <td>0.0129</td>\n",
       "    </tr>\n",
       "    <tr>\n",
       "      <th>D</th>\n",
       "      <td>0.3250</td>\n",
       "      <td>0.0265</td>\n",
       "    </tr>\n",
       "  </tbody>\n",
       "</table>\n",
       "</div>"
      ],
      "text/plain": [
       "               mean    std\n",
       "poison treat              \n",
       "G1     A     0.4125 0.0695\n",
       "       B     0.8800 0.1608\n",
       "       C     0.5675 0.1567\n",
       "       D     0.6100 0.1128\n",
       "G2     A     0.3200 0.0753\n",
       "       B     0.8150 0.3363\n",
       "       C     0.3750 0.0569\n",
       "       D     0.6675 0.2710\n",
       "G3     A     0.2100 0.0216\n",
       "       B     0.3350 0.0465\n",
       "       C     0.2350 0.0129\n",
       "       D     0.3250 0.0265"
      ]
     },
     "execution_count": 19,
     "metadata": {},
     "output_type": "execute_result"
    }
   ],
   "source": [
    "mean = poi.groupby(['poison', 'treat'])['time'].mean()\n",
    "std = poi.groupby(['poison', 'treat'])['time'].std()\n",
    "mean.name = 'mean'\n",
    "std.name = 'std'\n",
    "summary_1 = pd.concat([mean, std], axis=1)\n",
    "summary_1"
   ]
  },
  {
   "attachments": {},
   "cell_type": "markdown",
   "metadata": {},
   "source": [
    "- agg 함수를 이용하면 간단한 표현이 가능합니다."
   ]
  },
  {
   "cell_type": "code",
   "execution_count": 20,
   "metadata": {},
   "outputs": [
    {
     "data": {
      "text/html": [
       "<div>\n",
       "<style scoped>\n",
       "    .dataframe tbody tr th:only-of-type {\n",
       "        vertical-align: middle;\n",
       "    }\n",
       "\n",
       "    .dataframe tbody tr th {\n",
       "        vertical-align: top;\n",
       "    }\n",
       "\n",
       "    .dataframe thead th {\n",
       "        text-align: right;\n",
       "    }\n",
       "</style>\n",
       "<table border=\"1\" class=\"dataframe\">\n",
       "  <thead>\n",
       "    <tr style=\"text-align: right;\">\n",
       "      <th></th>\n",
       "      <th></th>\n",
       "      <th>mean</th>\n",
       "      <th>std</th>\n",
       "    </tr>\n",
       "    <tr>\n",
       "      <th>poison</th>\n",
       "      <th>treat</th>\n",
       "      <th></th>\n",
       "      <th></th>\n",
       "    </tr>\n",
       "  </thead>\n",
       "  <tbody>\n",
       "    <tr>\n",
       "      <th rowspan=\"4\" valign=\"top\">G1</th>\n",
       "      <th>A</th>\n",
       "      <td>0.4125</td>\n",
       "      <td>0.0695</td>\n",
       "    </tr>\n",
       "    <tr>\n",
       "      <th>B</th>\n",
       "      <td>0.8800</td>\n",
       "      <td>0.1608</td>\n",
       "    </tr>\n",
       "    <tr>\n",
       "      <th>C</th>\n",
       "      <td>0.5675</td>\n",
       "      <td>0.1567</td>\n",
       "    </tr>\n",
       "    <tr>\n",
       "      <th>D</th>\n",
       "      <td>0.6100</td>\n",
       "      <td>0.1128</td>\n",
       "    </tr>\n",
       "    <tr>\n",
       "      <th rowspan=\"4\" valign=\"top\">G2</th>\n",
       "      <th>A</th>\n",
       "      <td>0.3200</td>\n",
       "      <td>0.0753</td>\n",
       "    </tr>\n",
       "    <tr>\n",
       "      <th>B</th>\n",
       "      <td>0.8150</td>\n",
       "      <td>0.3363</td>\n",
       "    </tr>\n",
       "    <tr>\n",
       "      <th>C</th>\n",
       "      <td>0.3750</td>\n",
       "      <td>0.0569</td>\n",
       "    </tr>\n",
       "    <tr>\n",
       "      <th>D</th>\n",
       "      <td>0.6675</td>\n",
       "      <td>0.2710</td>\n",
       "    </tr>\n",
       "    <tr>\n",
       "      <th rowspan=\"4\" valign=\"top\">G3</th>\n",
       "      <th>A</th>\n",
       "      <td>0.2100</td>\n",
       "      <td>0.0216</td>\n",
       "    </tr>\n",
       "    <tr>\n",
       "      <th>B</th>\n",
       "      <td>0.3350</td>\n",
       "      <td>0.0465</td>\n",
       "    </tr>\n",
       "    <tr>\n",
       "      <th>C</th>\n",
       "      <td>0.2350</td>\n",
       "      <td>0.0129</td>\n",
       "    </tr>\n",
       "    <tr>\n",
       "      <th>D</th>\n",
       "      <td>0.3250</td>\n",
       "      <td>0.0265</td>\n",
       "    </tr>\n",
       "  </tbody>\n",
       "</table>\n",
       "</div>"
      ],
      "text/plain": [
       "               mean    std\n",
       "poison treat              \n",
       "G1     A     0.4125 0.0695\n",
       "       B     0.8800 0.1608\n",
       "       C     0.5675 0.1567\n",
       "       D     0.6100 0.1128\n",
       "G2     A     0.3200 0.0753\n",
       "       B     0.8150 0.3363\n",
       "       C     0.3750 0.0569\n",
       "       D     0.6675 0.2710\n",
       "G3     A     0.2100 0.0216\n",
       "       B     0.3350 0.0465\n",
       "       C     0.2350 0.0129\n",
       "       D     0.3250 0.0265"
      ]
     },
     "execution_count": 20,
     "metadata": {},
     "output_type": "execute_result"
    }
   ],
   "source": [
    "summary_2 = poi.groupby(['poison', 'treat'])['time'].agg(['mean', 'std']).round(4)\n",
    "summary_2"
   ]
  },
  {
   "cell_type": "code",
   "execution_count": 21,
   "metadata": {},
   "outputs": [
    {
     "data": {
      "text/plain": [
       "array(['G1', 'G2', 'G3'], dtype=object)"
      ]
     },
     "execution_count": 21,
     "metadata": {},
     "output_type": "execute_result"
    }
   ],
   "source": [
    "tmp=summary_2['mean'].reset_index()\n",
    "tmp['poison'].unique()"
   ]
  },
  {
   "cell_type": "code",
   "execution_count": 39,
   "metadata": {},
   "outputs": [
    {
     "data": {
      "image/png": "[encoded data removed]",
      "text/plain": [
       "<Figure size 432x288 with 1 Axes>"
      ]
     },
     "metadata": {},
     "output_type": "display_data"
    }
   ],
   "source": [
    "xaxis_poison = np.concatenate([np.ones(4), np.ones(4)*2, np.ones(4)*3])\n",
    "plt.scatter(xaxis_poison, summary_2['mean'].to_numpy())\n",
    "plt.xlabel('poison')\n",
    "plt.ylabel('survival time')\n",
    "plt.show()"
   ]
  },
  {
   "attachments": {},
   "cell_type": "markdown",
   "metadata": {},
   "source": [
    "위에서 적합해 놓은 one_way_anova에 anova 분석에서 residual 이 저장되어 있습습니다. 잔차검정 (residual test)를 위해 sklearn의 statmodel.qqplot() 함수를 이용하여 Q-Q plot을 그려보겠습니다. \n",
    "\n",
    "이는 ANOVA분석 결과로 얻게 되는 p-value에 대한 모형가정 검토입니다.  잔차검정을 통해 확인해야 하는 것은 모형이 정규분포를 따르는가에 대한 것이라기 보다는 꼬리쪽 분포의 두께가 두꺼운가, 데이터 index에 대한 의존성이 있는지, 기울어진 분포인지에 대한 것입니다. \n",
    "\n",
    "- Q-Q 플롯은 표준정규분포의 이론적 분위수와 관측치의 분위수 값을 비교하여 분포의 꼬리의 두께, 분포의 대칭성등을 파악할 수 있는 시각화 도구입니다. \n",
    "    + y축: 표준화된 잔차\n",
    "    + x축: (데이터의 분위수에 대응되는) 표준정규분포의 Z-value "
   ]
  },
  {
   "cell_type": "code",
   "execution_count": 47,
   "metadata": {},
   "outputs": [
    {
     "data": {
      "image/png": "[encoded data removed]",
      "text/plain": [
       "<Figure size 432x288 with 1 Axes>"
      ]
     },
     "metadata": {},
     "output_type": "display_data"
    }
   ],
   "source": [
    "res = np.array(two_way_anova.resid)\n",
    "std_res = res/two_way_anova.resid.std()\n",
    "sm.qqplot(std_res, line='45')\n",
    "plt.xlabel('Theoretical Quantiles')\n",
    "plt.ylabel('Standardized Residuals')\n",
    "plt.show()"
   ]
  },
  {
   "attachments": {},
   "cell_type": "markdown",
   "metadata": {},
   "source": [
    "위 QQ-plot을 확인해보면 분포의 오른쪽 끝(x축 양끝값)에서  이론적인 분위수(x축값)보다 표준화된 분위수의 값이 훨씬 크다는 것을 알 수 있습니다. \n",
    "\n",
    "정규분포를 가정하였을 때 약 1등은 $2$ 의 값을 가져야 할 것으로 보이나 실제로는  $3$ 의 값을 가지는 것으로 나타났음을 의미합니다. 즉, 정규분포포다 극단적으로 더 큰값이 잘 나타난 것입니다. 반대로 하위 1등은 데이터가 정규분포를 따른다면 $-2$의 값을 가져야 하겠지만 그 보다 작은 값을 가짐을 확인할 수 있습니다. \n",
    "\n",
    "위 결론으로 분포의 꼬리가 두껍다는 것을 알 수 있습니다."
   ]
  },
  {
   "attachments": {},
   "cell_type": "markdown",
   "metadata": {},
   "source": [
    "여기서 반응 변수로 사용하는 time 변수를 1/time으로 분석하면 residual 에 대한 우리의 가정을 좀 더 신뢰할 수 있습니다."
   ]
  },
  {
   "cell_type": "code",
   "execution_count": 22,
   "metadata": {},
   "outputs": [],
   "source": [
    "poi[\"time_inv\"] = 1/poi['time']"
   ]
  },
  {
   "cell_type": "code",
   "execution_count": 23,
   "metadata": {},
   "outputs": [],
   "source": [
    "two_way_anova_c = ols('time_inv ~ poison * treat', poi).fit()"
   ]
  },
  {
   "cell_type": "code",
   "execution_count": 24,
   "metadata": {},
   "outputs": [
    {
     "data": {
      "text/html": [
       "<div>\n",
       "<style scoped>\n",
       "    .dataframe tbody tr th:only-of-type {\n",
       "        vertical-align: middle;\n",
       "    }\n",
       "\n",
       "    .dataframe tbody tr th {\n",
       "        vertical-align: top;\n",
       "    }\n",
       "\n",
       "    .dataframe thead th {\n",
       "        text-align: right;\n",
       "    }\n",
       "</style>\n",
       "<table border=\"1\" class=\"dataframe\">\n",
       "  <thead>\n",
       "    <tr style=\"text-align: right;\">\n",
       "      <th></th>\n",
       "      <th>df</th>\n",
       "      <th>sum_sq</th>\n",
       "      <th>mean_sq</th>\n",
       "      <th>F</th>\n",
       "      <th>PR(&gt;F)</th>\n",
       "    </tr>\n",
       "  </thead>\n",
       "  <tbody>\n",
       "    <tr>\n",
       "      <th>poison</th>\n",
       "      <td>2.0000</td>\n",
       "      <td>34.8771</td>\n",
       "      <td>17.4386</td>\n",
       "      <td>72.6347</td>\n",
       "      <td>0.0000</td>\n",
       "    </tr>\n",
       "    <tr>\n",
       "      <th>treat</th>\n",
       "      <td>3.0000</td>\n",
       "      <td>20.4143</td>\n",
       "      <td>6.8048</td>\n",
       "      <td>28.3431</td>\n",
       "      <td>0.0000</td>\n",
       "    </tr>\n",
       "    <tr>\n",
       "      <th>poison:treat</th>\n",
       "      <td>6.0000</td>\n",
       "      <td>1.5708</td>\n",
       "      <td>0.2618</td>\n",
       "      <td>1.0904</td>\n",
       "      <td>0.3867</td>\n",
       "    </tr>\n",
       "    <tr>\n",
       "      <th>Residual</th>\n",
       "      <td>36.0000</td>\n",
       "      <td>8.6431</td>\n",
       "      <td>0.2401</td>\n",
       "      <td>NaN</td>\n",
       "      <td>NaN</td>\n",
       "    </tr>\n",
       "  </tbody>\n",
       "</table>\n",
       "</div>"
      ],
      "text/plain": [
       "                  df  sum_sq  mean_sq       F  PR(>F)\n",
       "poison        2.0000 34.8771  17.4386 72.6347  0.0000\n",
       "treat         3.0000 20.4143   6.8048 28.3431  0.0000\n",
       "poison:treat  6.0000  1.5708   0.2618  1.0904  0.3867\n",
       "Residual     36.0000  8.6431   0.2401     NaN     NaN"
      ]
     },
     "execution_count": 24,
     "metadata": {},
     "output_type": "execute_result"
    }
   ],
   "source": [
    "result_twoway = anova_lm(two_way_anova_c)\n",
    "result_twoway"
   ]
  },
  {
   "cell_type": "code",
   "execution_count": 25,
   "metadata": {},
   "outputs": [
    {
     "data": {
      "image/png": "[encoded data removed]",
      "text/plain": [
       "<Figure size 432x288 with 1 Axes>"
      ]
     },
     "metadata": {},
     "output_type": "display_data"
    }
   ],
   "source": [
    "res = np.array(two_way_anova_c.resid)\n",
    "std_res = res/two_way_anova_c.resid.std()\n",
    "sm.qqplot(std_res, line='45')\n",
    "plt.xlabel('Theoretical Quantiles')\n",
    "plt.ylabel('Standardized Residuals')\n",
    "plt.show()"
   ]
  },
  {
   "cell_type": "markdown",
   "metadata": {},
   "source": [
    "- 잔차의 히스토그램 그리기"
   ]
  },
  {
   "cell_type": "code",
   "execution_count": 26,
   "metadata": {},
   "outputs": [
    {
     "data": {
      "text/plain": [
       "Text(0, 0.5, 'Frequency')"
      ]
     },
     "execution_count": 26,
     "metadata": {},
     "output_type": "execute_result"
    },
    {
     "data": {
      "image/png": "[encoded data removed]",
      "text/plain": [
       "<Figure size 432x288 with 1 Axes>"
      ]
     },
     "metadata": {},
     "output_type": "display_data"
    }
   ],
   "source": [
    "fig, ax = plt.subplots()\n",
    "ax.hist(std_res, bins='auto', histtype='bar', ec='k') \n",
    "ax.set_xlabel('Residuals')\n",
    "ax.set_ylabel('Frequency')"
   ]
  }
 ],
 "metadata": {
  "kernelspec": {
   "display_name": "tf2",
   "language": "python",
   "name": "python3"
  },
  "language_info": {
   "codemirror_mode": {
    "name": "ipython",
    "version": 3
   },
   "file_extension": ".py",
   "mimetype": "text/x-python",
   "name": "python",
   "nbconvert_exporter": "python",
   "pygments_lexer": "ipython3",
   "version": "3.9.12"
  },
  "orig_nbformat": 4,
  "vscode": {
   "interpreter": {
    "hash": "09d430ac884b7b963decef9a3390e18440a81a639eb9d9528489333ac105a61d"
   }
  }
 },
 "nbformat": 4,
 "nbformat_minor": 2
}
