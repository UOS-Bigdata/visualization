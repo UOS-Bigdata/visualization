{
 "cells": [
  {
   "attachments": {},
   "cell_type": "markdown",
   "metadata": {},
   "source": [
    "# 지리정보함수2\n",
    "<!-- 13-2-->"
   ]
  },
  {
   "cell_type": "code",
   "execution_count": 11,
   "metadata": {},
   "outputs": [],
   "source": [
    "# 12-2-1 폴리곤 데이터\n",
    "import matplotlib.pyplot as plt\n",
    "import geopandas as gpd\n",
    "from shapely.geometry.polygon import Polygon"
   ]
  },
  {
   "cell_type": "code",
   "execution_count": 13,
   "metadata": {},
   "outputs": [
    {
     "data": {
      "text/plain": [
       "<function matplotlib.pyplot.plot(*args, scalex=True, scaley=True, data=None, **kwargs)>"
      ]
     },
     "execution_count": 13,
     "metadata": {},
     "output_type": "execute_result"
    }
   ],
   "source": [
    "triangle = Polygon([(0, 0), (1, 0), (1, 1)])\n",
    "plt.plot"
   ]
  },
  {
   "cell_type": "code",
   "execution_count": 14,
   "metadata": {},
   "outputs": [
    {
     "name": "stdout",
     "output_type": "stream",
     "text": [
      "length: 3.414213562373095\n",
      "area: 0.5\n",
      "bounds: (0.0, 0.0, 1.0, 1.0)\n",
      "boundary: LINESTRING (0 0, 1 0, 1 1, 0 0)\n",
      "centroid: POINT (0.6666666666666666 0.3333333333333333)\n"
     ]
    }
   ],
   "source": [
    "\n",
    "print(\"length:\", triangle.length)\n",
    "print(\"area:\", triangle.area)\n",
    "print(\"bounds:\", triangle.bounds)\n",
    "print(\"boundary:\", triangle.boundary)\n",
    "print(\"centroid:\", triangle.centroid)"
   ]
  },
  {
   "cell_type": "code",
   "execution_count": 15,
   "metadata": {},
   "outputs": [
    {
     "data": {
      "image/png": "[encoded data removed]",
      "text/plain": [
       "<Figure size 432x288 with 1 Axes>"
      ]
     },
     "metadata": {
      "needs_background": "light"
     },
     "output_type": "display_data"
    }
   ],
   "source": [
    "gpd.GeoSeries(triangle).plot()\n",
    "plt.show()"
   ]
  },
  {
   "cell_type": "code",
   "execution_count": 16,
   "metadata": {},
   "outputs": [
    {
     "name": "stdout",
     "output_type": "stream",
     "text": [
      "15.414213562373096\n",
      "6.5\n",
      "(0.0, 0.0, 1.0, 7.0)\n",
      "LINESTRING (0 0, 1 0, 1 6, 0 7, 0 0)\n",
      "POINT (0.4871794871794872 3.256410256410256)\n"
     ]
    }
   ],
   "source": [
    "rectangle = Polygon([(0, 0), (1, 0), (1, 6), (0, 7)])\n",
    "\n",
    "print(rectangle.length)\n",
    "print(rectangle.area)\n",
    "print(rectangle.bounds)\n",
    "print(rectangle.boundary)\n",
    "print(rectangle.centroid)"
   ]
  },
  {
   "cell_type": "code",
   "execution_count": 17,
   "metadata": {},
   "outputs": [
    {
     "data": {
      "image/png": "[encoded data removed]",
      "text/plain": [
       "<Figure size 432x288 with 1 Axes>"
      ]
     },
     "metadata": {
      "needs_background": "light"
     },
     "output_type": "display_data"
    }
   ],
   "source": [
    "gpd.GeoSeries(rectangle).plot()\n",
    "plt.show()"
   ]
  },
  {
   "cell_type": "code",
   "execution_count": null,
   "metadata": {},
   "outputs": [],
   "source": [
    "\n",
    "# 참고 : sequence 를 넣을 때 순서가 중요하다. 아래 예제로 확인!\n",
    "\n",
    "rectangle = Polygon([(0, 0), (1, 0), (0, 7), (1, 6)])\n",
    "\n",
    "gpd.GeoSeries(rectangle).plot()\n",
    "\n",
    "plt.show()\n",
    "\n",
    "# 다양한 polygon 을 그려보자\n",
    "shell = [(0, 0), (0, 2), (2, 2), (2, 0), (0, 0)]\n",
    "holes = [[(0.5, 0), (1.5, 0), (1.5, 1), (0.5, 1), (0.5, 0)]]\n",
    "\n",
    "polygon = Polygon(shell=shell, holes=holes)\n",
    "\n",
    "print(polygon.length)\n",
    "print(polygon.area)\n",
    "print(polygon.bounds)\n",
    "print(polygon.boundary)\n",
    "print(polygon.centroid)\n",
    "\n",
    "gpd.GeoSeries(polygon).plot(color='red')\n",
    "\n",
    "plt.show()\n",
    "\n",
    "shell = [(0, 0), (0, 2), (2, 2), (2, 0), (0, 0)]\n",
    "holes = [[(0.5, 0.25), (1.5, 0.25), (1.5, 1.25), (0.5, 1.25), (0.5, 0.25)],\n",
    "         [(0.5, 1.25), (1, 1.25), (1, 1.75), (0.5, 1.75)]]\n",
    "\n",
    "polygon2 = Polygon(shell, holes=holes)\n",
    "\n",
    "print(polygon2.length)\n",
    "print(polygon2.area)\n",
    "print(polygon2.bounds)\n",
    "print(polygon2.boundary)\n",
    "print(polygon2.centroid)\n",
    "\n",
    "gpd.GeoSeries(polygon2).plot(color='green')\n",
    "\n",
    "plt.show()\n",
    "\n",
    "shell = [(0, 0), (0, 2), (2, 2), (2, 0), (0, 0)]\n",
    "holes = [[(1, 0), (1.5, 0.5), (0.5, 1.5), (0, 1), (1, 0)]]\n",
    "\n",
    "polygon3 = Polygon(shell, holes=holes)\n",
    "\n",
    "print(polygon3.length)\n",
    "print(polygon3.area)\n",
    "print(polygon3.bounds)\n",
    "print(polygon3.boundary)\n",
    "print(polygon3.centroid)\n",
    "\n",
    "gpd.GeoSeries(polygon3).plot(color='pink')\n",
    "\n",
    "plt.show()\n",
    "\n",
    "# %%\n",
    "\n",
    "# 12-2-2 LineString 데이터\n",
    "import geopandas as gpd\n",
    "import matplotlib.pyplot as plt\n",
    "from shapely import Point, LineString\n",
    "\n",
    "line1 = LineString([(0, 0), (1, 1), (2, 5)])\n",
    "\n",
    "print(line1.length)\n",
    "print(line1.area)\n",
    "print(line1.bounds)\n",
    "print(line1.boundary)\n",
    "print(line1.centroid)\n",
    "\n",
    "gpd.GeoSeries(line1).plot()\n",
    "plt.show()\n",
    "\n",
    "line2 = LineString([(0, 0), Point(3, 4), Point(5, 17), Point(11, 13)])\n",
    "\n",
    "# Tuple 이외에도  Point 를 넣을 수도 있다.\n",
    "\n",
    "print(line2.length)\n",
    "print(line2.area)\n",
    "print(line2.bounds)\n",
    "print(line2.boundary)\n",
    "print(line2.centroid)\n",
    "\n",
    "gpd.GeoSeries(line2).plot()\n",
    "plt.show()\n",
    "\n",
    "line3 = LineString([(0, 0), (1, 1), (0, 2), (2, 2), (3, 1), (1, 0)])\n",
    "\n",
    "print(line3.length)\n",
    "print(line3.area)\n",
    "print(line3.bounds)\n",
    "print(line3.boundary)\n",
    "print(line3.centroid)\n",
    "\n",
    "gpd.GeoSeries(line3).plot(color='pink')\n",
    "plt.show()\n",
    "\n",
    "line4 = LineString([(0, 0), (1, 1), (0, 2), (2, 2), (-1, 1), (1, 0)])\n",
    "\n",
    "print(line4.length)\n",
    "print(line4.area)\n",
    "print(line4.bounds)\n",
    "print(line4.boundary)\n",
    "print(line4.centroid)\n",
    "\n",
    "gpd.GeoSeries(line4).plot(color='violet')\n",
    "plt.show()\n"
   ]
  },
  {
   "cell_type": "code",
   "execution_count": 2,
   "metadata": {},
   "outputs": [],
   "source": [
    "a = 1"
   ]
  }
 ],
 "metadata": {
  "kernelspec": {
   "display_name": "tf2",
   "language": "python",
   "name": "python3"
  },
  "language_info": {
   "codemirror_mode": {
    "name": "ipython",
    "version": 3
   },
   "file_extension": ".py",
   "mimetype": "text/x-python",
   "name": "python",
   "nbconvert_exporter": "python",
   "pygments_lexer": "ipython3",
   "version": "3.9.12"
  },
  "orig_nbformat": 4,
  "vscode": {
   "interpreter": {
    "hash": "09d430ac884b7b963decef9a3390e18440a81a639eb9d9528489333ac105a61d"
   }
  }
 },
 "nbformat": 4,
 "nbformat_minor": 2
}
