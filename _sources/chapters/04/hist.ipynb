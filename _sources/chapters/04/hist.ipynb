{
 "cells": [
  {
   "attachments": {},
   "cell_type": "markdown",
   "metadata": {},
   "source": [
    "## 확률분포의 추정"
   ]
  },
  {
   "attachments": {},
   "cell_type": "markdown",
   "metadata": {},
   "source": [
    "1. numpy의 설치 \n",
    "- 가상환경의 선택\n",
    "- conda install numpy\n",
    "    Anaconda 설치 경로의 확인:\n",
    "\n",
    "2. 벡터와 행렬의 생성\n",
    "    numpy.array \n",
    "(1) 리스트를 이용한 벡터의 생성\n",
    "(2) numpy.zeros(), numpy.ones()\n",
    "(3) numpy.repeat()\n",
    "(4) 리스트를 이용한 행렬의 생성\n",
    "(5) 대각행렬 생성하기 (numpy.diag())\n",
    "\n",
    "3. 벡터와 행렬의 형태 변환\n",
    "(1) shape 이해하기\n",
    "(2) reshape 이해하기 (order = ‘C’ or ‘F’)\n",
    "----"
   ]
  },
  {
   "cell_type": "code",
   "execution_count": 1,
   "metadata": {},
   "outputs": [],
   "source": [
    "# 4-2\n",
    "import numpy as np\n",
    "import pandas as pd\n",
    "import seaborn as sns                         # 4-1-2, 4-1-3\n",
    "import statsmodels.api as sm                  # 4-1-2\n",
    "import matplotlib.pyplot as plt               # 4-1-2, 4-1-3, 4-2-1\n",
    "from statsmodels.formula.api import ols       # 4-1-1\n",
    "from statsmodels.stats.anova import anova_lm  # 4-1-1\n",
    "from statsmodels.distributions.empirical_distribution import ECDF\n",
    "import scipy.stats\n",
    "from scipy.stats import norm, chi2\n",
    "from scipy.special import erf                 # 4-2-1\n",
    "\n",
    "from lifelines.datasets import load_dd\n",
    "from lifelines import KaplanMeierFitter\n",
    "\n",
    "from sklearn.datasets import load_boston\n",
    "from sklearn.metrics import mean_squared_error"
   ]
  },
  {
   "cell_type": "code",
   "execution_count": 2,
   "metadata": {},
   "outputs": [],
   "source": [
    "# load data\n",
    "path_file = \"http://ranking.uos.ac.kr/class/VIS/data/\" # insert poison file path\n",
    "poi = pd.read_csv(path_file + 'poison.csv')"
   ]
  },
  {
   "attachments": {},
   "cell_type": "markdown",
   "metadata": {},
   "source": [
    "\n",
    "- 종속변수 time의 독립변수 poison에 대한 상자그림과 산점도\n",
    "- pyplot 패키지의 활용\n",
    "- poison에 따른 time의 평균과 분포는 어떤 차이를 보이는가?\n"
   ]
  },
  {
   "cell_type": "markdown",
   "metadata": {},
   "source": [
    "- poison 변수의 값을 기준으로 데이터를 나누기 위해서 값을 확인해본다."
   ]
  },
  {
   "cell_type": "code",
   "execution_count": 11,
   "metadata": {},
   "outputs": [
    {
     "data": {
      "text/plain": [
       "G1    16\n",
       "G2    16\n",
       "G3    16\n",
       "Name: poison, dtype: int64"
      ]
     },
     "execution_count": 11,
     "metadata": {},
     "output_type": "execute_result"
    }
   ],
   "source": [
    "poi['poison'].value_counts()"
   ]
  },
  {
   "cell_type": "markdown",
   "metadata": {},
   "source": [
    "- 확인한 poison의 값을 이용하여 데이터를 나눈다. "
   ]
  },
  {
   "cell_type": "code",
   "execution_count": 13,
   "metadata": {},
   "outputs": [],
   "source": [
    "x1 = poi['time'][poi['poison']=='G1']\n",
    "x2 = poi['time'][poi['poison']=='G2']\n",
    "x3 = poi['time'][poi['poison']=='G3']"
   ]
  },
  {
   "cell_type": "markdown",
   "metadata": {},
   "source": [
    "- 그래픽 스타일을 'ggplot'으로 바꾸자"
   ]
  },
  {
   "cell_type": "code",
   "execution_count": 27,
   "metadata": {},
   "outputs": [],
   "source": [
    "plt.style.use('ggplot')"
   ]
  },
  {
   "cell_type": "code",
   "execution_count": 30,
   "metadata": {},
   "outputs": [
    {
     "data": {
      "text/plain": [
       "Text(0, 0.5, 'Y: time')"
      ]
     },
     "execution_count": 30,
     "metadata": {},
     "output_type": "execute_result"
    },
    {
     "data": {
      "image/png": "[encoded data removed]",
      "text/plain": [
       "<Figure size 432x288 with 1 Axes>"
      ]
     },
     "metadata": {},
     "output_type": "display_data"
    }
   ],
   "source": [
    "fig, ax = plt.subplots()\n",
    "ax.boxplot([x1,x2,x3])\n",
    "ax.set_xticks([1,2,3],['G1','G2','G3'])\n",
    "ax.set_title('Example: boxplot')\n",
    "ax.set_xlabel(\"X: poison\")\n",
    "ax.set_ylabel(\"Y: time\")"
   ]
  },
  {
   "cell_type": "code",
   "execution_count": 33,
   "metadata": {},
   "outputs": [
    {
     "data": {
      "text/plain": [
       "0     A\n",
       "1     A\n",
       "2     A\n",
       "3     A\n",
       "4     A\n",
       "5     A\n",
       "6     A\n",
       "7     A\n",
       "8     A\n",
       "9     A\n",
       "10    A\n",
       "11    A\n",
       "12    B\n",
       "13    B\n",
       "14    B\n",
       "15    B\n",
       "16    B\n",
       "17    B\n",
       "18    B\n",
       "19    B\n",
       "20    B\n",
       "21    B\n",
       "22    B\n",
       "23    B\n",
       "24    C\n",
       "25    C\n",
       "26    C\n",
       "27    C\n",
       "28    C\n",
       "29    C\n",
       "30    C\n",
       "31    C\n",
       "32    C\n",
       "33    C\n",
       "34    C\n",
       "35    C\n",
       "36    D\n",
       "37    D\n",
       "38    D\n",
       "39    D\n",
       "40    D\n",
       "41    D\n",
       "42    D\n",
       "43    D\n",
       "44    D\n",
       "45    D\n",
       "46    D\n",
       "47    D\n",
       "Name: treat, dtype: object"
      ]
     },
     "execution_count": 33,
     "metadata": {},
     "output_type": "execute_result"
    }
   ],
   "source": [
    "poi['treat']"
   ]
  },
  {
   "cell_type": "code",
   "execution_count": null,
   "metadata": {},
   "outputs": [],
   "source": [
    "x1 = poi['time'][poi['poison']=='G1']\n",
    "x2 = poi['time'][poi['poison']=='G2']\n",
    "x3 = poi['time'][poi['poison']=='G3']"
   ]
  },
  {
   "cell_type": "code",
   "execution_count": null,
   "metadata": {},
   "outputs": [],
   "source": [
    "#%%\n",
    "# poison, treat에 따른 그룹 평균 비교\n",
    "# x축이 posion 일 때\n",
    "xaxis_poison = np.concatenate([np.ones(4), np.ones(4)*2, np.ones(4)*3])\n",
    "plt.scatter(xaxis_poison, df_summary_2.loc['mean'].to_numpy())\n",
    "plt.xlabel('poison')\n",
    "plt.ylabel('survival time')\n",
    "plt.show()\n",
    "\n",
    "# x축이 treat 일 때\n",
    "xaxis_treat = np.concatenate([range(4)]*3)\n",
    "plt.scatter(xaxis_treat, df_summary_2.loc['mean'].to_numpy())\n",
    "plt.xlabel('treat')\n",
    "plt.ylabel('survival time')\n",
    "plt.show()\n",
    "\n",
    "\n",
    "#%%\n",
    "# pointplot 함수를 이용한 이원분산분석 시각화\n",
    "sns.pointplot(\n",
    "    data=df_poi,\n",
    "    x='poison',                   # X축 : 첫번째 독립변수 poison\n",
    "    y='time',                     # Y축 : 반응변수 time\n",
    "    hue='treat',                  # group : 두번째 독립변수 treat\n",
    "    dodge=True,                   # X축에 따라 group별 위치 구분\n",
    "    markers=['o', 's', '^', 'D'], # marker 표현\n",
    "    capsize=0.1,                  # 상자그림 캡 사이즈\n",
    "    errwidth=1,                   # 상자그림 폭 사이즈\n",
    "    palette='colorblind'          # 색상 팔레트\n",
    "    )\n",
    "plt.xlabel('Poison')\n",
    "plt.ylabel('Survival time')\n",
    "plt.show()\n"
   ]
  },
  {
   "cell_type": "code",
   "execution_count": null,
   "metadata": {},
   "outputs": [],
   "source": [
    "##################################################\n",
    "################ 4-1-2. 분산분석의 시각화 ####################\n",
    "#############################################################\n",
    "# 종속변수 time의 독립변수 poison에 대한 상자그림과 산점도\n",
    "# seaborn(as sns) 패키지 활용\n",
    "# poison에 따른 time의 평균과 분포는 어떤 차이를 보이는가?\n",
    "ax = sns.boxplot(x='poison', y='time', data=poi, color='#99c2a2')\n",
    "ax = sns.swarmplot(x=\"poison\", y=\"time\", data=poi, color='#7d0013')\n",
    "plt.xlabel('X : Poison')\n",
    "plt.ylabel('Y : survival time')\n",
    "plt.show()\n",
    "\n",
    "\n",
    "#%%\n",
    "# residual(잔차)를 이용한 qqplot 그리기\n",
    "sm.qqplot(one_way_anova.resid, line='45')\n",
    "plt.xlabel('Theoretical Quantiles')\n",
    "plt.ylabel('Standardized Residuals')\n",
    "plt.show()\n",
    "\n",
    "\n",
    "#%%\n",
    "# residual(잔차)를 이용한 histogram 그리기\n",
    "plt.hist(one_way_anova.resid, bins='auto', histtype='bar', ec='k') \n",
    "plt.xlabel('Residuals')\n",
    "plt.ylabel('Frequency')\n",
    "plt.show()\n",
    "\n",
    "\n",
    "#%%\n",
    "#############################################################\n",
    "############ 4-1-3. 이원배치 분산분석과 시각화 ###############\n",
    "#############################################################\n",
    "# groupby를 이용한 독립변수별 여러개의 기초통계량 계산\n",
    "df_mean = df_poi.groupby(['poison', 'treat'])['time'].mean()\n",
    "df_std = df_poi.groupby(['poison', 'treat'])['time'].std()\n",
    "df_mean.name = 'mean'\n",
    "df_std.name = 'std'\n",
    "df_summary_1 = pd.concat([df_mean, df_std], axis=1)\n",
    "df_summary_1\n",
    "\n",
    "\n",
    "#%%\n",
    "# groupby와 agg를 이용하여 효율적인 계산 가능\n",
    "df_summary_2 = df_poi.groupby(['poison', 'treat'])['time'].agg(['mean', 'std']).round(2).T\n",
    "df_summary_2\n",
    "\n",
    "\n",
    "#%%\n",
    "# poison, treat에 따른 그룹 평균 비교\n",
    "# x축이 posion 일 때\n",
    "xaxis_poison = np.concatenate([np.ones(4), np.ones(4)*2, np.ones(4)*3])\n",
    "plt.scatter(xaxis_poison, df_summary_2.loc['mean'].to_numpy())\n",
    "plt.xlabel('poison')\n",
    "plt.ylabel('survival time')\n",
    "plt.show()\n",
    "\n",
    "# x축이 treat 일 때\n",
    "xaxis_treat = np.concatenate([range(4)]*3)\n",
    "plt.scatter(xaxis_treat, df_summary_2.loc['mean'].to_numpy())\n",
    "plt.xlabel('treat')\n",
    "plt.ylabel('survival time')\n",
    "plt.show()\n",
    "\n",
    "\n",
    "#%%\n",
    "# pointplot 함수를 이용한 이원분산분석 시각화\n",
    "sns.pointplot(\n",
    "    data=df_poi,\n",
    "    x='poison',                   # X축 : 첫번째 독립변수 poison\n",
    "    y='time',                     # Y축 : 반응변수 time\n",
    "    hue='treat',                  # group : 두번째 독립변수 treat\n",
    "    dodge=True,                   # X축에 따라 group별 위치 구분\n",
    "    markers=['o', 's', '^', 'D'], # marker 표현\n",
    "    capsize=0.1,                  # 상자그림 캡 사이즈\n",
    "    errwidth=1,                   # 상자그림 폭 사이즈\n",
    "    palette='colorblind'          # 색상 팔레트\n",
    "    )\n",
    "plt.xlabel('Poison')\n",
    "plt.ylabel('Survival time')\n",
    "plt.show()\n"
   ]
  }
 ],
 "metadata": {
  "kernelspec": {
   "display_name": "tf2",
   "language": "python",
   "name": "python3"
  },
  "language_info": {
   "codemirror_mode": {
    "name": "ipython",
    "version": 3
   },
   "file_extension": ".py",
   "mimetype": "text/x-python",
   "name": "python",
   "nbconvert_exporter": "python",
   "pygments_lexer": "ipython3",
   "version": "3.9.12 (main, Apr  4 2022, 05:22:27) [MSC v.1916 64 bit (AMD64)]"
  },
  "orig_nbformat": 4,
  "vscode": {
   "interpreter": {
    "hash": "9a92dc886063db3b8548512bbbf3429dad7ae1708694c583c21d1ffc4fc47ad7"
   }
  }
 },
 "nbformat": 4,
 "nbformat_minor": 2
}
