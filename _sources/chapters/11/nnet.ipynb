{
 "cells": [
  {
   "attachments": {},
   "cell_type": "markdown",
   "metadata": {},
   "source": [
    "# Auto Encoder\n",
    "<!-- 11-1 -->"
   ]
  },
  {
   "attachments": {},
   "cell_type": "markdown",
   "metadata": {},
   "source": [
    "***Classical Multi Dimensional Scaling***\n",
    "\n",
    "MDS의 아이디어는 데이터간 거리를 보존하는 map을 학습하는 것임을 살펴보았습니다. 고전적인 MDS는 차원축소를 이용하여 거리를 보존하는 방법을 제안하였습니다. 차원축소를 이용한다는 것은 거리행렬 $D^2$과 $\\hat D^2$의 차이를 operator norm (일종의 행렬의 길이를 재는 방법)으로 정의하고 적절한 $\\hat D^2$를 찾는 방법입니다.\n",
    "\n",
    "이제 $\\mathbb{R}^d$위에 있는 원본 데이터 $x_i$와 $x_j$의 거리 $d_{ij}$를 데이터로 표현하는 방법을 살펴보겠습니다. \n",
    "\n",
    "$$d_{ij}^2 = \\|x_i-x_j\\|^2 = x_i^\\top x_i + x_j^\\top x_j -2x_i^\\top x_j$$\n",
    "\n",
    "여기서 데이터 행렬 $X \\in \\mathbb{R}^{n\\times d}$에 대해 \n",
    "$$B = XX^\\top$$\n",
    "정의하겠습니다. 행렬 $B$의 $i$행 $j$열 원소를 $b_{ij}$라 한다면 \n",
    "\n"
   ]
  },
  {
   "attachments": {},
   "cell_type": "markdown",
   "metadata": {},
   "source": [
    "이 방법은 데이터의 missing 있는 경우에 작동하지 않습니다. 그리고 계산량이 $O(n^3)$으로 알려져 있어 이를 개선하기 위한 방법론들이 제안되었습니다. "
   ]
  }
 ],
 "metadata": {
  "kernelspec": {
   "display_name": "tf2",
   "language": "python",
   "name": "python3"
  },
  "language_info": {
   "codemirror_mode": {
    "name": "ipython",
    "version": 3
   },
   "file_extension": ".py",
   "mimetype": "text/x-python",
   "name": "python",
   "nbconvert_exporter": "python",
   "pygments_lexer": "ipython3",
   "version": "3.9.12"
  },
  "orig_nbformat": 4,
  "vscode": {
   "interpreter": {
    "hash": "09d430ac884b7b963decef9a3390e18440a81a639eb9d9528489333ac105a61d"
   }
  }
 },
 "nbformat": 4,
 "nbformat_minor": 2
}
