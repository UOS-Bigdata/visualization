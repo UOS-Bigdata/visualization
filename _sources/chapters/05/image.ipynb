{
 "cells": [
  {
   "attachments": {},
   "cell_type": "markdown",
   "metadata": {},
   "source": [
    "# 이미지 데이터의 시각화\n",
    "<!-- 5-2 -->\n"
   ]
  },
  {
   "cell_type": "markdown",
   "metadata": {},
   "source": [
    "1. numpy의 설치\n",
    "- 가상환경의 선택\n",
    "- conda install numpy\n",
    "    Anaconda 설치 경로의 확인:\n",
    "\n",
    "2. 벡터와 행렬의 생성\n",
    "    numpy.array \n",
    "(1) 리스트를 이용한 벡터의 생성\n",
    "(2) numpy.zeros(), numpy.ones()\n",
    "(3) numpy.repeat()\n",
    "(4) 리스트를 이용한 행렬의 생성\n",
    "(5) 대각행렬 생성하기 (numpy.diag())\n",
    "\n",
    "3. 벡터와 행렬의 형태 변환\n",
    "(1) shape 이해하기\n",
    "(2) reshape 이해하기 (order = ‘C’ or ‘F’)\n",
    "----"
   ]
  },
  {
   "cell_type": "code",
   "execution_count": 2,
   "metadata": {},
   "outputs": [],
   "source": [
    "a = 1"
   ]
  }
 ],
 "metadata": {
  "kernelspec": {
   "display_name": "tf2",
   "language": "python",
   "name": "python3"
  },
  "language_info": {
   "codemirror_mode": {
    "name": "ipython",
    "version": 3
   },
   "file_extension": ".py",
   "mimetype": "text/x-python",
   "name": "python",
   "nbconvert_exporter": "python",
   "pygments_lexer": "ipython3",
   "version": "3.9.12 (main, Apr  4 2022, 05:22:27) [MSC v.1916 64 bit (AMD64)]"
  },
  "orig_nbformat": 4,
  "vscode": {
   "interpreter": {
    "hash": "09d430ac884b7b963decef9a3390e18440a81a639eb9d9528489333ac105a61d"
   }
  }
 },
 "nbformat": 4,
 "nbformat_minor": 2
}
