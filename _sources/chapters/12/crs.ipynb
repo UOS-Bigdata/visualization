{
 "cells": [
  {
   "attachments": {},
   "cell_type": "markdown",
   "metadata": {},
   "source": [
    "# 데이터 구조와 좌표계\n",
    "<!-- 12-3 -->"
   ]
  },
  {
   "cell_type": "code",
   "execution_count": 1,
   "metadata": {},
   "outputs": [],
   "source": [
    "import geopandas as gpd\n",
    "import os"
   ]
  },
  {
   "cell_type": "code",
   "execution_count": null,
   "metadata": {},
   "outputs": [
    {
     "name": "stdout",
     "output_type": "stream",
     "text": [
      "CRS of node PROJCS[\"ITRF2000_Central_Belt_60\",GEOGCS[\"GCS_ITRF_2000\",DATUM[\"International_Terrestrial_Reference_Frame_2000\",SPHEROID[\"GRS 1980\",6378137,298.257222101,AUTHORITY[\"EPSG\",\"7019\"]],AUTHORITY[\"EPSG\",\"6656\"]],PRIMEM[\"Greenwich\",0],UNIT[\"Degree\",0.0174532925199433],AUTHORITY[\"EPSG\",\"4656\"]],PROJECTION[\"Transverse_Mercator\"],PARAMETER[\"latitude_of_origin\",38],PARAMETER[\"central_meridian\",127],PARAMETER[\"scale_factor\",1],PARAMETER[\"false_easting\",200000],PARAMETER[\"false_northing\",600000],UNIT[\"metre\",1,AUTHORITY[\"EPSG\",\"9001\"]],AXIS[\"Easting\",EAST],AXIS[\"Northing\",NORTH]]\n",
      "CRS of link PROJCS[\"ITRF2000_Central_Belt_60\",GEOGCS[\"GCS_ITRF_2000\",DATUM[\"International_Terrestrial_Reference_Frame_2000\",SPHEROID[\"GRS 1980\",6378137,298.257222101,AUTHORITY[\"EPSG\",\"7019\"]],AUTHORITY[\"EPSG\",\"6656\"]],PRIMEM[\"Greenwich\",0],UNIT[\"Degree\",0.0174532925199433],AUTHORITY[\"EPSG\",\"4656\"]],PROJECTION[\"Transverse_Mercator\"],PARAMETER[\"latitude_of_origin\",38],PARAMETER[\"central_meridian\",127],PARAMETER[\"scale_factor\",1],PARAMETER[\"false_easting\",200000],PARAMETER[\"false_northing\",600000],UNIT[\"metre\",1,AUTHORITY[\"EPSG\",\"9001\"]],AXIS[\"Easting\",EAST],AXIS[\"Northing\",NORTH]]\n"
     ]
    }
   ],
   "source": [
    "\n",
    "print(\"CRS of node\", k_node.crs)\n",
    "print(\"CRS of link\", k_link.crs)"
   ]
  },
  {
   "cell_type": "code",
   "execution_count": null,
   "metadata": {},
   "outputs": [
    {
     "name": "stdout",
     "output_type": "stream",
     "text": [
      "None\n"
     ]
    }
   ],
   "source": [
    "crs_ = k_link.crs\n",
    "type(crs_)\n",
    "#%% \n",
    "# pyproj.crs.crs class \n",
    "# https://pyproj4.github.io/pyproj/dev/api/crs/crs.html\n",
    "print(crs_.area_of_use)"
   ]
  },
  {
   "cell_type": "code",
   "execution_count": null,
   "metadata": {},
   "outputs": [
    {
     "data": {
      "text/plain": [
       "<Coordinate Operation: Conversion>\n",
       "Name: unnamed\n",
       "Method: Transverse Mercator\n",
       "Area of Use:\n",
       "- undefined"
      ]
     },
     "metadata": {},
     "output_type": "display_data"
    }
   ],
   "source": [
    "crs_.coordinate_operation"
   ]
  },
  {
   "cell_type": "code",
   "execution_count": null,
   "metadata": {},
   "outputs": [
    {
     "data": {
      "text/plain": [
       "CS[Cartesian,2],\n",
       "    AXIS[\"easting\",east,\n",
       "        ORDER[1],\n",
       "        LENGTHUNIT[\"metre\",1,\n",
       "            ID[\"EPSG\",9001]]],\n",
       "    AXIS[\"northing\",north,\n",
       "        ORDER[2],\n",
       "        LENGTHUNIT[\"metre\",1,\n",
       "            ID[\"EPSG\",9001]]]"
      ]
     },
     "metadata": {},
     "output_type": "display_data"
    }
   ],
   "source": [
    "crs_.coordinate_system"
   ]
  },
  {
   "cell_type": "code",
   "execution_count": null,
   "metadata": {},
   "outputs": [
    {
     "data": {
      "text/plain": [
       "[{'axis': 'X',\n",
       "  'long_name': 'Easting',\n",
       "  'standard_name': 'projection_x_coordinate',\n",
       "  'units': 'metre'},\n",
       " {'axis': 'Y',\n",
       "  'long_name': 'Northing',\n",
       "  'standard_name': 'projection_y_coordinate',\n",
       "  'units': 'metre'}]"
      ]
     },
     "metadata": {},
     "output_type": "display_data"
    }
   ],
   "source": [
    "# epsg: 9001, Geodesy\n",
    "# cs_to_cf() converts all coordinate systems (cs) \n",
    "# in the CRS to a list of Climate and Forecast (CF) Version 1.8 dicts.\n",
    "crs_.cs_to_cf()"
   ]
  },
  {
   "cell_type": "code",
   "execution_count": null,
   "metadata": {},
   "outputs": [
    {
     "data": {
      "text/plain": [
       "DATUM[\"International_Terrestrial_Reference_Frame_2000\",\n",
       "    ELLIPSOID[\"GRS 1980\",6378137,298.257222101,\n",
       "        LENGTHUNIT[\"metre\",1]],\n",
       "    ID[\"EPSG\",6656]]"
      ]
     },
     "metadata": {},
     "output_type": "display_data"
    }
   ],
   "source": [
    "crs_.datum"
   ]
  },
  {
   "cell_type": "code",
   "execution_count": null,
   "metadata": {},
   "outputs": [
    {
     "data": {
      "text/plain": [
       "ELLIPSOID[\"GRS 1980\",6378137,298.257222101,\n",
       "    LENGTHUNIT[\"metre\",1],\n",
       "    ID[\"EPSG\",7019]]"
      ]
     },
     "metadata": {},
     "output_type": "display_data"
    }
   ],
   "source": [
    "crs_.ellipsoid"
   ]
  }
 ],
 "metadata": {
  "kernelspec": {
   "display_name": "tf2",
   "language": "python",
   "name": "python3"
  },
  "language_info": {
   "codemirror_mode": {
    "name": "ipython",
    "version": 3
   },
   "file_extension": ".py",
   "mimetype": "text/x-python",
   "name": "python",
   "nbconvert_exporter": "python",
   "pygments_lexer": "ipython3",
   "version": "3.9.12"
  },
  "orig_nbformat": 4,
  "vscode": {
   "interpreter": {
    "hash": "09d430ac884b7b963decef9a3390e18440a81a639eb9d9528489333ac105a61d"
   }
  }
 },
 "nbformat": 4,
 "nbformat_minor": 2
}
