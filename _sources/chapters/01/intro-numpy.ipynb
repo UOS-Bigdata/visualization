{
 "cells": [
  {
   "attachments": {},
   "cell_type": "markdown",
   "metadata": {},
   "source": [
    "## Numpy 리뷰\n"
   ]
  },
  {
   "attachments": {},
   "cell_type": "markdown",
   "metadata": {},
   "source": [
    "### 행렬, 벡터의 생성과 참조\n",
    "\n",
    "#### numpy의 설치\n",
    "- 가상환경의 선택 (가상환경의 이름이 *tf2*입니다)\n",
    "\n",
    "    ```conda activate tf2```\n",
    "\n",
    "- 선택한 가상환경에 numpy 패키지 설치\n",
    "    \n",
    "    ```conda install numpy```\n",
    "- Anaconda 설치 경로의 확인\n",
    "\n",
    "    ```%userprofile\\anaconda3\\envs```\n",
    "\n",
    "#### 벡터와 행렬의 생성\n",
    "- numpy.array \n",
    "    + 리스트를 이용한 벡터의 생성\n",
    "    + numpy.zeros(), numpy.ones()\n",
    "    + numpy.repeat()\n",
    "    + 리스트를 이용한 행렬의 생성\n",
    "- 대각행렬 생성하기 \n",
    "    + numpy.diag()\n",
    "\n",
    "#### 벡터와 행렬의 형태 변환\n",
    "- shape 이해하기\n",
    "- reshape 이해하기 (order = ‘C’ or ‘F’)"
   ]
  },
  {
   "cell_type": "code",
   "execution_count": 7,
   "metadata": {},
   "outputs": [],
   "source": [
    "import numpy as np"
   ]
  },
  {
   "cell_type": "code",
   "execution_count": 11,
   "metadata": {},
   "outputs": [
    {
     "name": "stdout",
     "output_type": "stream",
     "text": [
      "[1 2 3 4]\n"
     ]
    }
   ],
   "source": [
    "# 리스트를 이용한 생성\n",
    "a = np.array([1,2,3,4])\n",
    "print(a)"
   ]
  },
  {
   "cell_type": "code",
   "execution_count": 10,
   "metadata": {},
   "outputs": [
    {
     "data": {
      "text/plain": [
       "(4,)"
      ]
     },
     "execution_count": 10,
     "metadata": {},
     "output_type": "execute_result"
    }
   ],
   "source": [
    "# 속성확인\n",
    "a.shape"
   ]
  },
  {
   "cell_type": "code",
   "execution_count": 13,
   "metadata": {},
   "outputs": [
    {
     "name": "stdout",
     "output_type": "stream",
     "text": [
      "[1 2 3 4]\n"
     ]
    }
   ],
   "source": [
    "# 튜플을 이용한 생성\n",
    "a = np.array((1,2,3,4))\n",
    "print(a)"
   ]
  },
  {
   "cell_type": "code",
   "execution_count": 16,
   "metadata": {},
   "outputs": [
    {
     "name": "stdout",
     "output_type": "stream",
     "text": [
      "[0 1 2 3 4 5 6 7 8 9]\n"
     ]
    },
    {
     "data": {
      "text/plain": [
       "numpy.ndarray"
      ]
     },
     "execution_count": 16,
     "metadata": {},
     "output_type": "execute_result"
    }
   ],
   "source": [
    "# range()를 이용한 생성\n",
    "a = np.array(range(10))\n",
    "print(a)"
   ]
  },
  {
   "cell_type": "code",
   "execution_count": 18,
   "metadata": {},
   "outputs": [
    {
     "data": {
      "text/plain": [
       "array([1., 1., 1., 1., 1.], dtype=float32)"
      ]
     },
     "execution_count": 18,
     "metadata": {},
     "output_type": "execute_result"
    }
   ],
   "source": [
    "# ones, zeros 함수를 이용한 생성\n",
    "np.ones(5, dtype = 'float32')"
   ]
  },
  {
   "cell_type": "code",
   "execution_count": 29,
   "metadata": {},
   "outputs": [
    {
     "data": {
      "text/plain": [
       "array([[1., 1., 1., 1.],\n",
       "       [1., 1., 1., 1.]])"
      ]
     },
     "execution_count": 29,
     "metadata": {},
     "output_type": "execute_result"
    }
   ],
   "source": [
    "np.ones((2,4))"
   ]
  },
  {
   "cell_type": "code",
   "execution_count": 32,
   "metadata": {},
   "outputs": [
    {
     "name": "stdout",
     "output_type": "stream",
     "text": [
      "a의 shape는 (2, 6) 입니다\n"
     ]
    },
    {
     "data": {
      "text/plain": [
       "array([[1, 1, 1, 1, 1, 1],\n",
       "       [1, 1, 1, 1, 1, 1]])"
      ]
     },
     "execution_count": 32,
     "metadata": {},
     "output_type": "execute_result"
    }
   ],
   "source": [
    "a = np.array(range(12)).reshape((2,6))\n",
    "print(\"a의 shape는\", a.shape, \"입니다\")\n",
    "np.ones_like(a)"
   ]
  },
  {
   "cell_type": "code",
   "execution_count": 40,
   "metadata": {},
   "outputs": [
    {
     "data": {
      "text/plain": [
       "array([[0., 0., 0., 0., 0.],\n",
       "       [0., 0., 0., 0., 0.]], dtype=float16)"
      ]
     },
     "execution_count": 40,
     "metadata": {},
     "output_type": "execute_result"
    }
   ],
   "source": [
    "# zeros\n",
    "a = np.zeros((2,5), dtype = 'float16')\n",
    "a"
   ]
  },
  {
   "cell_type": "code",
   "execution_count": 41,
   "metadata": {},
   "outputs": [
    {
     "data": {
      "text/plain": [
       "array([[0., 0., 0., 0., 0.],\n",
       "       [0., 0., 0., 0., 0.]], dtype=float16)"
      ]
     },
     "execution_count": 41,
     "metadata": {},
     "output_type": "execute_result"
    }
   ],
   "source": [
    "np.zeros_like(a)"
   ]
  },
  {
   "attachments": {},
   "cell_type": "markdown",
   "metadata": {},
   "source": [
    "위 예제에서 a의 dtype이 'float16'이기 때문에 zeros_like 함수의 출력 array의 dtype이 'float16'이 된다."
   ]
  },
  {
   "cell_type": "code",
   "execution_count": 43,
   "metadata": {},
   "outputs": [
    {
     "data": {
      "text/plain": [
       "array([1.5, 1.5, 1.5])"
      ]
     },
     "execution_count": 43,
     "metadata": {},
     "output_type": "execute_result"
    }
   ],
   "source": [
    "# repeat pattern: each 3\n",
    "np.repeat(1.5,3)"
   ]
  },
  {
   "cell_type": "code",
   "execution_count": 44,
   "metadata": {},
   "outputs": [
    {
     "data": {
      "text/plain": [
       "array([1.5, 1.5, 1.5, 1.5, 3.5, 3.5, 3.5, 3.5])"
      ]
     },
     "execution_count": 44,
     "metadata": {},
     "output_type": "execute_result"
    }
   ],
   "source": [
    "# repeat pattern: each 4\n",
    "np.repeat([1.5,3.5], 4)\n"
   ]
  },
  {
   "cell_type": "code",
   "execution_count": 46,
   "metadata": {},
   "outputs": [
    {
     "data": {
      "text/plain": [
       "array([1.5, 1.5, 3.5, 3.5, 3.5])"
      ]
     },
     "execution_count": 46,
     "metadata": {},
     "output_type": "execute_result"
    }
   ],
   "source": [
    "# repeat pattern: each 2 and 3\n",
    "np.repeat([1.5,3.5], [2,3])"
   ]
  },
  {
   "cell_type": "code",
   "execution_count": null,
   "metadata": {},
   "outputs": [
    {
     "data": {
      "text/plain": [
       "array([[1, 2, 4],\n",
       "       [1, 2, 4],\n",
       "       [1, 2, 4],\n",
       "       [1, 2, 4]])"
      ]
     },
     "execution_count": 48,
     "metadata": {},
     "output_type": "execute_result"
    }
   ],
   "source": [
    "np.repeat([[1,2,4]], 4, axis = 0)"
   ]
  },
  {
   "attachments": {},
   "cell_type": "markdown",
   "metadata": {},
   "source": [
    "tile 함수를 이용하면 위 예제와 같은 방법의 결과물을 얻을 수 있다."
   ]
  },
  {
   "cell_type": "code",
   "execution_count": 59,
   "metadata": {},
   "outputs": [
    {
     "data": {
      "text/plain": [
       "array([[1, 2, 4],\n",
       "       [1, 2, 4],\n",
       "       [1, 2, 4],\n",
       "       [1, 2, 4]])"
      ]
     },
     "execution_count": 59,
     "metadata": {},
     "output_type": "execute_result"
    }
   ],
   "source": [
    "np.tile([1,2,4], reps = (4,1))"
   ]
  },
  {
   "cell_type": "code",
   "execution_count": 68,
   "metadata": {},
   "outputs": [
    {
     "data": {
      "text/plain": [
       "array([-1.  , -0.75, -0.5 , -0.25,  0.  ,  0.25,  0.5 ,  0.75,  1.  ,\n",
       "        1.25,  1.5 ,  1.75,  2.  ,  2.25,  2.5 ,  2.75])"
      ]
     },
     "execution_count": 68,
     "metadata": {},
     "output_type": "execute_result"
    }
   ],
   "source": [
    "# equally increasing\n",
    "b = np.arange(-1, 3, 0.25)\n",
    "b"
   ]
  },
  {
   "cell_type": "code",
   "execution_count": 69,
   "metadata": {},
   "outputs": [
    {
     "data": {
      "text/plain": [
       "array([ 3.  ,  2.75,  2.5 ,  2.25,  2.  ,  1.75,  1.5 ,  1.25,  1.  ,\n",
       "        0.75,  0.5 ,  0.25,  0.  , -0.25, -0.5 , -0.75])"
      ]
     },
     "execution_count": 69,
     "metadata": {},
     "output_type": "execute_result"
    }
   ],
   "source": [
    "b = np.arange(3, -1, -0.25)\n",
    "b\n"
   ]
  },
  {
   "cell_type": "code",
   "execution_count": 71,
   "metadata": {},
   "outputs": [
    {
     "data": {
      "text/plain": [
       "array([[1, 0, 0, 0],\n",
       "       [0, 2, 0, 0],\n",
       "       [0, 0, 3, 0],\n",
       "       [0, 0, 0, 4]])"
      ]
     },
     "execution_count": 71,
     "metadata": {},
     "output_type": "execute_result"
    }
   ],
   "source": [
    "# render a diagonal matrix\n",
    "b = np.diag([1,2,3,4])\n",
    "b"
   ]
  },
  {
   "cell_type": "code",
   "execution_count": 73,
   "metadata": {},
   "outputs": [
    {
     "data": {
      "text/plain": [
       "array([1, 2, 3, 4])"
      ]
     },
     "execution_count": 73,
     "metadata": {},
     "output_type": "execute_result"
    }
   ],
   "source": [
    "# select diagonal elements\n",
    "np.diagonal(b)"
   ]
  },
  {
   "cell_type": "code",
   "execution_count": 60,
   "metadata": {},
   "outputs": [
    {
     "name": "stdout",
     "output_type": "stream",
     "text": [
      "[[1 2 3]\n",
      " [4 5 6]]\n"
     ]
    },
    {
     "data": {
      "text/plain": [
       "(2, 3)"
      ]
     },
     "execution_count": 60,
     "metadata": {},
     "output_type": "execute_result"
    }
   ],
   "source": [
    "# shape 1\n",
    "a = np.array([[1,2,3],[4,5,6]])\n",
    "print(a)\n",
    "a.shape"
   ]
  },
  {
   "cell_type": "code",
   "execution_count": 61,
   "metadata": {},
   "outputs": [
    {
     "name": "stdout",
     "output_type": "stream",
     "text": [
      "[[1 2 3]]\n"
     ]
    },
    {
     "data": {
      "text/plain": [
       "(1, 3)"
      ]
     },
     "execution_count": 61,
     "metadata": {},
     "output_type": "execute_result"
    }
   ],
   "source": [
    "# shape 2\n",
    "a = np.array([[1,2,3]])\n",
    "print(a)\n",
    "a.shape"
   ]
  },
  {
   "cell_type": "code",
   "execution_count": 62,
   "metadata": {},
   "outputs": [
    {
     "name": "stdout",
     "output_type": "stream",
     "text": [
      "[[1]\n",
      " [2]\n",
      " [3]]\n"
     ]
    },
    {
     "data": {
      "text/plain": [
       "(3, 1)"
      ]
     },
     "execution_count": 62,
     "metadata": {},
     "output_type": "execute_result"
    }
   ],
   "source": [
    "# shape 3\n",
    "a = np.array([[1],[2],[3]])\n",
    "print(a)\n",
    "a.shape"
   ]
  },
  {
   "attachments": {},
   "cell_type": "markdown",
   "metadata": {},
   "source": [
    "k차원 numpy darray의 구조는 일렬로 배열된 1차원 array의 원소를 순서에 맞게 k차원으로 재배열한 것입니다.\n",
    "아래 예제는 numpy darray에 재배열되는 순서를 확인할 수 있는 예제입니다. 2차원 배열에서 order = 'C' 방식과 order= 'F' 방식을 비교할 수 있습니다."
   ]
  },
  {
   "cell_type": "code",
   "execution_count": 65,
   "metadata": {},
   "outputs": [
    {
     "name": "stdout",
     "output_type": "stream",
     "text": [
      "print a\n",
      "[ 0  1  2  3  4  5  6  7  8  9 10 11]\n",
      "order C\n",
      "[[ 0  1  2]\n",
      " [ 3  4  5]\n",
      " [ 6  7  8]\n",
      " [ 9 10 11]]\n",
      "order F\n",
      "[[ 0  4  8]\n",
      " [ 1  5  9]\n",
      " [ 2  6 10]\n",
      " [ 3  7 11]]\n"
     ]
    }
   ],
   "source": [
    "## shape + order \n",
    "a = np.array(range(12))\n",
    "print(\"print a\")\n",
    "print(a)\n",
    "print(\"order C\")\n",
    "print( a.reshape((4,3), order =\"C\"))\n",
    "print(\"order F\")\n",
    "print( a.reshape((4,3), order =\"F\"))"
   ]
  },
  {
   "attachments": {},
   "cell_type": "markdown",
   "metadata": {},
   "source": [
    "### 행렬, 벡터의 원소 참조\n",
    "\n",
    "#### 벡터의 원소 참조\n",
    "- 슬라이싱 방법을 이용한 원소 참조\n",
    "    + 단일 위치 참조\n",
    "    + 연속 위치 참조1 [i:j]\n",
    "    + 연속 위치 참조2 [i:j:k]\n",
    "- boolean 벡터를 이용한 참조\n",
    "    + 등호, 부등호를 이용한 boolean 벡터 만들기\n",
    "    + boolean 벡터를 이용한 인덱싱\n",
    "- 원소의 변경\n",
    "\n",
    "\n",
    "#### 행렬의 원소 참조\n",
    "- 슬라이싱 방법을 이용한 원소 참조\n",
    "    + 단일 위치 참조 [i,j]\n",
    "    + 연속 위치 참조1 (열 참조) [:,j], [:,j:k]\n",
    "    + 연속 위치 참조2 (행 참조)\n",
    "    + 연속 위치 참조3 (대각원소 참조) np.diagonal()\n",
    "- boolean 행렬을 이용한 참조\n",
    "    + 등호, 부등호를 이용한 boolean 행렬 만들기\n",
    "    + boolean 행렬를 이용한 인덱싱\n",
    "- 원소의 변경"
   ]
  },
  {
   "cell_type": "code",
   "execution_count": 76,
   "metadata": {},
   "outputs": [
    {
     "data": {
      "text/plain": [
       "array([ 3,  5,  7,  9, 11, 13, 15, 17, 19])"
      ]
     },
     "execution_count": 76,
     "metadata": {},
     "output_type": "execute_result"
    }
   ],
   "source": [
    "# indexing\n",
    "a = np.arange(3,20,2)\n",
    "a"
   ]
  },
  {
   "cell_type": "code",
   "execution_count": 80,
   "metadata": {},
   "outputs": [
    {
     "data": {
      "text/plain": [
       "3"
      ]
     },
     "execution_count": 80,
     "metadata": {},
     "output_type": "execute_result"
    }
   ],
   "source": [
    "a[0]"
   ]
  },
  {
   "cell_type": "code",
   "execution_count": 79,
   "metadata": {},
   "outputs": [
    {
     "data": {
      "text/plain": [
       "array([ 3,  5,  7,  9, 11])"
      ]
     },
     "execution_count": 79,
     "metadata": {},
     "output_type": "execute_result"
    }
   ],
   "source": [
    "a[:5]"
   ]
  },
  {
   "cell_type": "code",
   "execution_count": 83,
   "metadata": {},
   "outputs": [
    {
     "data": {
      "text/plain": [
       "array([[ 0,  1,  2,  3,  4,  5,  6,  7,  8,  9],\n",
       "       [10, 11, 12, 13, 14, 15, 16, 17, 18, 19],\n",
       "       [20, 21, 22, 23, 24, 25, 26, 27, 28, 29],\n",
       "       [30, 31, 32, 33, 34, 35, 36, 37, 38, 39],\n",
       "       [40, 41, 42, 43, 44, 45, 46, 47, 48, 49]])"
      ]
     },
     "execution_count": 83,
     "metadata": {},
     "output_type": "execute_result"
    }
   ],
   "source": [
    "\n",
    "b = np.arange(50).reshape((5,10))\n",
    "b"
   ]
  },
  {
   "cell_type": "code",
   "execution_count": 84,
   "metadata": {},
   "outputs": [
    {
     "data": {
      "text/plain": [
       "35"
      ]
     },
     "execution_count": 84,
     "metadata": {},
     "output_type": "execute_result"
    }
   ],
   "source": [
    "b[3,5]"
   ]
  },
  {
   "cell_type": "code",
   "execution_count": 87,
   "metadata": {},
   "outputs": [
    {
     "data": {
      "text/plain": [
       "array([30, 31, 32, 33, 34, 35, 36, 37, 38, 39])"
      ]
     },
     "execution_count": 87,
     "metadata": {},
     "output_type": "execute_result"
    }
   ],
   "source": [
    "\n",
    "b[3,:]"
   ]
  },
  {
   "cell_type": "code",
   "execution_count": 89,
   "metadata": {},
   "outputs": [
    {
     "data": {
      "text/plain": [
       "array([ 3, 13, 23, 33, 43])"
      ]
     },
     "execution_count": 89,
     "metadata": {},
     "output_type": "execute_result"
    }
   ],
   "source": [
    "b[:,3]"
   ]
  },
  {
   "cell_type": "code",
   "execution_count": 90,
   "metadata": {},
   "outputs": [
    {
     "data": {
      "text/plain": [
       "array([[ 3,  5,  7],\n",
       "       [13, 15, 17],\n",
       "       [23, 25, 27],\n",
       "       [33, 35, 37],\n",
       "       [43, 45, 47]])"
      ]
     },
     "execution_count": 90,
     "metadata": {},
     "output_type": "execute_result"
    }
   ],
   "source": [
    "# step i:j:k\n",
    "b[:,3:9:2]"
   ]
  },
  {
   "attachments": {},
   "cell_type": "markdown",
   "metadata": {},
   "source": [
    "slincing index를 활용하면 행의 순서를 바꿀수 있다. 아래 예제에서는 [4:0:-1] 혹은 [::-1]로 slicing 할 수 있다."
   ]
  },
  {
   "cell_type": "code",
   "execution_count": 93,
   "metadata": {},
   "outputs": [
    {
     "data": {
      "text/plain": [
       "array([[40, 41, 42, 43, 44, 45, 46, 47, 48, 49],\n",
       "       [30, 31, 32, 33, 34, 35, 36, 37, 38, 39],\n",
       "       [20, 21, 22, 23, 24, 25, 26, 27, 28, 29],\n",
       "       [10, 11, 12, 13, 14, 15, 16, 17, 18, 19]])"
      ]
     },
     "execution_count": 93,
     "metadata": {},
     "output_type": "execute_result"
    }
   ],
   "source": [
    "b[4:0:-1,:]"
   ]
  },
  {
   "attachments": {},
   "cell_type": "markdown",
   "metadata": {},
   "source": [
    "아래와 같이 대각원소를 참조할 수도 있다."
   ]
  },
  {
   "cell_type": "code",
   "execution_count": 98,
   "metadata": {},
   "outputs": [
    {
     "data": {
      "text/plain": [
       "array([2, 4, 6, 8])"
      ]
     },
     "execution_count": 98,
     "metadata": {},
     "output_type": "execute_result"
    }
   ],
   "source": [
    "# 대각행렬 생성\n",
    "b = np.diag([2,4,6,8])\n",
    "# 대각원소 참조\n",
    "np.diagonal(b)"
   ]
  },
  {
   "cell_type": "code",
   "execution_count": 108,
   "metadata": {},
   "outputs": [
    {
     "data": {
      "text/plain": [
       "array([ True,  True, False,  True, False, False, False,  True,  True,\n",
       "        True])"
      ]
     },
     "execution_count": 108,
     "metadata": {},
     "output_type": "execute_result"
    }
   ],
   "source": [
    "np.random.seed(1)\n",
    "b =np.random.uniform(size = 10)\n",
    "b>0.25\n"
   ]
  },
  {
   "cell_type": "code",
   "execution_count": 109,
   "metadata": {},
   "outputs": [
    {
     "data": {
      "text/plain": [
       "array([0.417022  , 0.72032449, 0.30233257, 0.34556073, 0.39676747,\n",
       "       0.53881673])"
      ]
     },
     "execution_count": 109,
     "metadata": {},
     "output_type": "execute_result"
    }
   ],
   "source": [
    "b[b>0.25]"
   ]
  },
  {
   "cell_type": "code",
   "execution_count": 112,
   "metadata": {},
   "outputs": [
    {
     "data": {
      "text/plain": [
       "array([[False, False, False, False,  True],\n",
       "       [False, False,  True, False,  True],\n",
       "       [False, False, False,  True,  True],\n",
       "       [ True, False, False, False,  True],\n",
       "       [ True, False, False, False,  True]])"
      ]
     },
     "execution_count": 112,
     "metadata": {},
     "output_type": "execute_result"
    }
   ],
   "source": [
    "b = np.random.normal(size = (5,5))\n",
    "b<0"
   ]
  },
  {
   "cell_type": "code",
   "execution_count": 114,
   "metadata": {},
   "outputs": [
    {
     "data": {
      "text/plain": [
       "array([[0.83898341, 0.93110208, 0.28558733, 0.88514116, 0.        ],\n",
       "       [1.25286816, 0.51292982, 0.        , 0.48851815, 0.        ],\n",
       "       [1.13162939, 1.51981682, 2.18557541, 0.        , 0.        ],\n",
       "       [0.        , 0.16003707, 0.87616892, 0.31563495, 0.        ],\n",
       "       [0.        , 0.82797464, 0.23009474, 0.76201118, 0.        ]])"
      ]
     },
     "execution_count": 114,
     "metadata": {},
     "output_type": "execute_result"
    }
   ],
   "source": [
    "b[b<0] = 0\n",
    "b"
   ]
  },
  {
   "attachments": {},
   "cell_type": "markdown",
   "metadata": {},
   "source": [
    "### 행렬의 덧셈과 곱셈\n",
    "#### 행렬의 덧셈\n",
    "- numpy.random.normal()을 이용한 랜덤행렬의 생성\n",
    "- 열 벡터의 생성과 덧셈\n",
    "- 행렬의 스칼라 곱\n",
    "\n",
    "#### 행렬의 곱셈\n",
    "- 행렬과 열벡터의 곱셈\n",
    "- 회귀모형과 행렬의 곱셈 \n",
    "\n",
    "#### 역행렬의 계산\n",
    "- numpy.linalg.inv()를 이용한 역행렬의 계산\n",
    "- 역행렬의 성질 확인\n",
    "\n",
    "#### 고유치 분해(eigen decomposition)\n",
    "- numpy.linalg.eig()를 이용한 고유치 분해\n",
    "- 직교행렬의 확인\n",
    "\n",
    "#### 특이치 분해(singular value decomposition)\n",
    "- numpy.linalg.svd()를 이용한 특이치 분해"
   ]
  },
  {
   "cell_type": "code",
   "execution_count": 115,
   "metadata": {},
   "outputs": [],
   "source": [
    "# operation\n",
    "# addition on vectors\n",
    "x = np.random.uniform(size = 10)\n",
    "y = np.random.uniform(size = 10)"
   ]
  },
  {
   "cell_type": "code",
   "execution_count": 116,
   "metadata": {},
   "outputs": [
    {
     "data": {
      "text/plain": [
       "array([0.96090195, 0.94302923, 0.92602812, 1.29429412, 1.30669817,\n",
       "       1.76505543, 0.83569807, 0.40345464, 0.60563941, 0.99580674])"
      ]
     },
     "execution_count": 116,
     "metadata": {},
     "output_type": "execute_result"
    }
   ],
   "source": [
    "x + y"
   ]
  },
  {
   "cell_type": "code",
   "execution_count": 117,
   "metadata": {},
   "outputs": [
    {
     "data": {
      "text/plain": [
       "array([ 2.74117341,  1.59803235, -1.52205538,  1.18872703,  1.15598461,\n",
       "        1.08501182,  1.88622765, -0.18555447, -1.11187814, -1.86055854])"
      ]
     },
     "execution_count": 117,
     "metadata": {},
     "output_type": "execute_result"
    }
   ],
   "source": [
    "3*x - 2*y"
   ]
  },
  {
   "cell_type": "code",
   "execution_count": 118,
   "metadata": {},
   "outputs": [
    {
     "data": {
      "text/plain": [
       "array([8.69734298e-01, 4.85555550e-01, 4.35602280e-03, 5.70724424e-01,\n",
       "       5.68329308e-01, 8.51974293e-01, 5.06267482e-01, 1.54432720e-02,\n",
       "       3.95219721e-04, 6.87015833e-04])"
      ]
     },
     "execution_count": 118,
     "metadata": {},
     "output_type": "execute_result"
    }
   ],
   "source": [
    "x**2"
   ]
  },
  {
   "cell_type": "code",
   "execution_count": 119,
   "metadata": {},
   "outputs": [],
   "source": [
    "# addition on matrix\n",
    "x = np.random.uniform(size = (5,5))\n",
    "y = np.random.uniform(size = (5,5))"
   ]
  },
  {
   "cell_type": "code",
   "execution_count": 120,
   "metadata": {},
   "outputs": [
    {
     "data": {
      "text/plain": [
       "array([[1.14238915, 0.98866728, 1.64746147, 0.47282203, 1.30087491],\n",
       "       [1.00781636, 1.69252275, 0.90391304, 0.57481644, 0.20647737],\n",
       "       [0.5462628 , 0.72767292, 0.61340332, 0.42485654, 1.21432549],\n",
       "       [1.2927342 , 0.93985815, 0.5635042 , 0.81730871, 1.63650922],\n",
       "       [0.83302002, 0.26962807, 0.62240994, 1.37354336, 0.40560349]])"
      ]
     },
     "execution_count": 120,
     "metadata": {},
     "output_type": "execute_result"
    }
   ],
   "source": [
    "x + y"
   ]
  },
  {
   "cell_type": "code",
   "execution_count": 121,
   "metadata": {},
   "outputs": [
    {
     "data": {
      "text/plain": [
       "array([[ 0.5203728 , -1.88409811,  0.70824042,  0.2192273 ,  1.43377616],\n",
       "       [-0.0763295 ,  0.93266376,  1.92778214,  1.6315683 ,  0.26932139],\n",
       "       [-0.79293715, -0.84862856, -1.00404724, -0.31224243, -1.30010429],\n",
       "       [ 0.9794765 ,  0.9188686 , -1.0642285 , -1.27474602,  1.5633632 ],\n",
       "       [ 1.17446227,  0.47721004,  0.01680884,  0.97204255,  0.16594042]])"
      ]
     },
     "execution_count": 121,
     "metadata": {},
     "output_type": "execute_result"
    }
   ],
   "source": [
    "3*x - 2*y"
   ]
  },
  {
   "cell_type": "code",
   "execution_count": 122,
   "metadata": {},
   "outputs": [
    {
     "data": {
      "text/plain": [
       "array([[1.07598788, 1.18721825, 1.36051497, 1.07089097, 1.39539043],\n",
       "       [1.48283019, 1.76559569, 1.24580821, 0.8466904 , 1.39153102],\n",
       "       [0.25384287, 0.24156122, 0.23786419, 0.25301651, 0.20150382],\n",
       "       [1.06558595, 1.25474581, 1.09630868, 0.84814677, 0.65512189],\n",
       "       [1.06202305, 1.16831016, 1.13862922, 0.89757713, 1.08306606]])"
      ]
     },
     "execution_count": 122,
     "metadata": {},
     "output_type": "execute_result"
    }
   ],
   "source": [
    "# matrix multiplication\n",
    "x@y\n"
   ]
  },
  {
   "cell_type": "code",
   "execution_count": 123,
   "metadata": {},
   "outputs": [
    {
     "data": {
      "text/plain": [
       "array([[0, 3],\n",
       "       [1, 4],\n",
       "       [2, 5]])"
      ]
     },
     "execution_count": 123,
     "metadata": {},
     "output_type": "execute_result"
    }
   ],
   "source": [
    "# Transpose\n",
    "A = np.array(range(0,6)).reshape((2,3))\n",
    "A.T"
   ]
  },
  {
   "cell_type": "code",
   "execution_count": 124,
   "metadata": {},
   "outputs": [
    {
     "data": {
      "text/plain": [
       "array([[-1.5,  0.5],\n",
       "       [ 1. ,  0. ]])"
      ]
     },
     "execution_count": 124,
     "metadata": {},
     "output_type": "execute_result"
    }
   ],
   "source": [
    "# inverse matrix\n",
    "A = np.array(range(4)).reshape((2,2))\n",
    "np.linalg.inv(A)"
   ]
  },
  {
   "attachments": {},
   "cell_type": "markdown",
   "metadata": {},
   "source": [
    "Y 행렬 (정확히는 Y의 열벡터로 생성된 열공간)에 대한 projection matrix $\\Pi_Y$는 \n",
    "$$ \\Pi_Y = Y(Y^\\top Y)^{-1}Y^\\top$$\n",
    "로 주어진다."
   ]
  },
  {
   "cell_type": "code",
   "execution_count": 126,
   "metadata": {},
   "outputs": [
    {
     "data": {
      "text/plain": [
       "array([[ 0.68594235,  0.32203062, -0.04391301,  0.20065957,  0.26368372],\n",
       "       [ 0.32203062,  0.47860442, -0.27190749,  0.02700205, -0.26678778],\n",
       "       [-0.04391301, -0.27190749,  0.19567494,  0.03873089,  0.28288538],\n",
       "       [ 0.20065957,  0.02700205,  0.03873089,  0.07249219,  0.15730104],\n",
       "       [ 0.26368372, -0.26678778,  0.28288538,  0.15730104,  0.5672861 ]])"
      ]
     },
     "execution_count": 126,
     "metadata": {},
     "output_type": "execute_result"
    }
   ],
   "source": [
    "#  orthogonal projection matrix onto Y\n",
    "np.random.seed(1)\n",
    "Y = np.random.gamma(1,1,(5,2)).round(2)\n",
    "proj_Y = Y@np.linalg.inv(Y.T@Y)@Y.T\n",
    "proj_Y"
   ]
  },
  {
   "attachments": {},
   "cell_type": "markdown",
   "metadata": {},
   "source": [
    "입력값 $x$에 대해 $\\Pi_Yx$와  $x-\\Pi_Yx$는 직교한다."
   ]
  },
  {
   "cell_type": "code",
   "execution_count": 127,
   "metadata": {},
   "outputs": [
    {
     "data": {
      "text/plain": [
       "array([ 1.26955761, -0.28667715,  0.59618698,  0.55255645,  1.54100415])"
      ]
     },
     "execution_count": 127,
     "metadata": {},
     "output_type": "execute_result"
    }
   ],
   "source": [
    "x = np.random.normal(0,1,5).round(2)\n",
    "proj_Y@x"
   ]
  },
  {
   "cell_type": "code",
   "execution_count": 128,
   "metadata": {},
   "outputs": [
    {
     "data": {
      "text/plain": [
       "array([ 0.47044239, -0.47332285, -0.27618698, -0.80255645, -0.08100415])"
      ]
     },
     "execution_count": 128,
     "metadata": {},
     "output_type": "execute_result"
    }
   ],
   "source": [
    "x - proj_Y@x"
   ]
  },
  {
   "cell_type": "code",
   "execution_count": 130,
   "metadata": {},
   "outputs": [
    {
     "data": {
      "text/plain": [
       "3.219646771412954e-15"
      ]
     },
     "execution_count": 130,
     "metadata": {},
     "output_type": "execute_result"
    }
   ],
   "source": [
    "np.dot(proj_Y@x, (x - proj_Y@x))"
   ]
  },
  {
   "attachments": {},
   "cell_type": "markdown",
   "metadata": {},
   "source": [
    "고유치 분해를 통해 정방행렬 A를 직교행렬 $E$와 대각행렬 $D$로 재표현할 수 있습니다.\n",
    "$$A = EDE^\\top$$"
   ]
  },
  {
   "cell_type": "code",
   "execution_count": 1,
   "metadata": {},
   "outputs": [
    {
     "data": {
      "text/plain": [
       "array([[1.08, 1.63, 0.21],\n",
       "       [1.63, 0.32, 0.52],\n",
       "       [0.21, 0.52, 1.02]])"
      ]
     },
     "execution_count": 1,
     "metadata": {},
     "output_type": "execute_result"
    }
   ],
   "source": [
    "# eigendecomposition (page 51)\n",
    "np.random.seed(1)\n",
    "tmpA = np.random.gamma(1,1,(3,3)).round(2)\n",
    "A = tmpA + tmpA.T\n",
    "A"
   ]
  },
  {
   "cell_type": "code",
   "execution_count": 2,
   "metadata": {},
   "outputs": [
    {
     "data": {
      "text/plain": [
       "array([[ 0.59970893, -0.72900234, -0.33000726],\n",
       "       [-0.78794538, -0.60990772, -0.08458518],\n",
       "       [ 0.13961119, -0.31075418,  0.94018113]])"
      ]
     },
     "execution_count": 2,
     "metadata": {},
     "output_type": "execute_result"
    }
   ],
   "source": [
    "eig_fit = np.linalg.eig(A)\n",
    "# eigen matrix\n",
    "E = eig_fit[1]\n",
    "E"
   ]
  },
  {
   "cell_type": "code",
   "execution_count": 3,
   "metadata": {},
   "outputs": [
    {
     "data": {
      "text/plain": [
       "array([-1.01273625,  2.53322986,  0.89950639])"
      ]
     },
     "execution_count": 3,
     "metadata": {},
     "output_type": "execute_result"
    }
   ],
   "source": [
    "# diagonal element of D (saving memery)\n",
    "d = eig_fit[0]\n",
    "d"
   ]
  },
  {
   "attachments": {},
   "cell_type": "markdown",
   "metadata": {},
   "source": [
    "아래 코드로 $EDE^\\top$를 계산함으로써 $A = EDE^\\top$을 확인해 볼 수 있습니다."
   ]
  },
  {
   "cell_type": "code",
   "execution_count": 4,
   "metadata": {},
   "outputs": [
    {
     "data": {
      "text/plain": [
       "array([[1.08, 1.63, 0.21],\n",
       "       [1.63, 0.32, 0.52],\n",
       "       [0.21, 0.52, 1.02]])"
      ]
     },
     "execution_count": 4,
     "metadata": {},
     "output_type": "execute_result"
    }
   ],
   "source": [
    "# reconstruction 1\n",
    "eig_fit[1]@np.diag(eig_fit[0])@eig_fit[1].T"
   ]
  },
  {
   "attachments": {},
   "cell_type": "markdown",
   "metadata": {},
   "source": [
    "$E$ 행렬의 $j$번째 열벡터를 $e_j$ $D$행렬의 $j$번째 대각원소를 $\\lambda_j$라고 하면 아래과 같이 $A$를 다시 쓸 수 있습니다.\n",
    "$$A = \\lambda_1 e_1e_1^\\top + \\lambda_2 e_2e_2^\\top + \\cdots + \\lambda_p e_pe_p^\\top $$"
   ]
  },
  {
   "cell_type": "code",
   "execution_count": 5,
   "metadata": {},
   "outputs": [
    {
     "data": {
      "text/plain": [
       "array([[1.08, 1.63, 0.21],\n",
       "       [1.63, 0.32, 0.52],\n",
       "       [0.21, 0.52, 1.02]])"
      ]
     },
     "execution_count": 5,
     "metadata": {},
     "output_type": "execute_result"
    }
   ],
   "source": [
    "# reconstruction 2\n",
    "E1 = E[:,[0]]@E[:,[0]].T\n",
    "# note: eig_fit[1][:,0] 대신 eig_fit[1][:,[0]] 를 사용하면, dimension collapsing  을 방지해준다. \n",
    "E2 = E[:,[1]]@E[:,[1]].T\n",
    "E3 = E[:,[2]]@E[:,[2]].T\n",
    "d[0]*E1 + d[1]*E2 + d[2]*E3"
   ]
  },
  {
   "attachments": {},
   "cell_type": "markdown",
   "metadata": {},
   "source": [
    "Singular Value Decompostion은 어떤 행렬을 직교행렬 두 개와 (부분)대각행렬 하나로 분해해준다. $n \\times p$ 행렬 A를 생각해보자.\n",
    "$$A=UDV^\\top$$\n",
    "- $U\\in \\mathbb{R}^{n \\times n}$ 인 직교행렬\n",
    "- $D\\in \\mathbb{R}^{n \\times p}$ 인 부분대각행렬\n",
    "- $V^\\top \\in \\mathbb{R}^{p \\times p}$ 인 직교행렬"
   ]
  },
  {
   "cell_type": "code",
   "execution_count": 10,
   "metadata": {},
   "outputs": [
    {
     "data": {
      "text/plain": [
       "array([[0.54, 1.27, 0.  ],\n",
       "       [0.36, 0.16, 0.1 ],\n",
       "       [0.21, 0.42, 0.51],\n",
       "       [0.77, 0.54, 1.16],\n",
       "       [0.23, 2.1 , 0.03]])"
      ]
     },
     "execution_count": 10,
     "metadata": {},
     "output_type": "execute_result"
    }
   ],
   "source": [
    "np.random.seed(1)\n",
    "A = np.random.gamma(1,1,(5,3)).round(2)\n",
    "A\n"
   ]
  },
  {
   "cell_type": "code",
   "execution_count": 27,
   "metadata": {},
   "outputs": [],
   "source": [
    "u, d, vt = np.linalg.svd(A)"
   ]
  },
  {
   "cell_type": "code",
   "execution_count": 12,
   "metadata": {},
   "outputs": [
    {
     "data": {
      "text/plain": [
       "array([[-0.49856986, -0.13018396,  0.63725098, -0.09079361, -0.56581617],\n",
       "       [-0.10260974,  0.14161256,  0.56562616, -0.30875843,  0.74441414],\n",
       "       [-0.20737752,  0.28420105, -0.3645728 , -0.84769608, -0.15723344],\n",
       "       [-0.36027421,  0.84296517, -0.056204  ,  0.39552836, -0.00326288],\n",
       "       [-0.75372169, -0.41429157, -0.37135701,  0.14626489,  0.31775251]])"
      ]
     },
     "execution_count": 12,
     "metadata": {},
     "output_type": "execute_result"
    }
   ],
   "source": [
    "u"
   ]
  },
  {
   "cell_type": "code",
   "execution_count": 13,
   "metadata": {},
   "outputs": [
    {
     "data": {
      "text/plain": [
       "array([2.69648674, 1.34518023, 0.40453607])"
      ]
     },
     "execution_count": 13,
     "metadata": {},
     "output_type": "execute_result"
    }
   ],
   "source": [
    "d"
   ]
  },
  {
   "cell_type": "code",
   "execution_count": 22,
   "metadata": {},
   "outputs": [
    {
     "data": {
      "text/plain": [
       "array([[2.69648674, 0.        , 0.        ],\n",
       "       [0.        , 1.34518023, 0.        ],\n",
       "       [0.        , 0.        , 0.40453607],\n",
       "       [0.        , 0.        , 0.        ],\n",
       "       [0.        , 0.        , 0.        ]])"
      ]
     },
     "execution_count": 22,
     "metadata": {},
     "output_type": "execute_result"
    }
   ],
   "source": [
    "D = np.concatenate([np.diag(d), np.zeros((2,3))], axis = 0)\n",
    "D"
   ]
  },
  {
   "cell_type": "code",
   "execution_count": 31,
   "metadata": {},
   "outputs": [
    {
     "data": {
      "text/plain": [
       "array([[-0.2968617 , -0.9323478 , -0.2063994 ],\n",
       "       [ 0.4416951 , -0.32569784,  0.83595835],\n",
       "       [ 0.84662776, -0.15699841, -0.50850067]])"
      ]
     },
     "execution_count": 31,
     "metadata": {},
     "output_type": "execute_result"
    }
   ],
   "source": [
    "vt"
   ]
  },
  {
   "cell_type": "code",
   "execution_count": 32,
   "metadata": {},
   "outputs": [
    {
     "data": {
      "text/plain": [
       "array([[ 5.40000000e-01,  1.27000000e+00, -1.34140343e-16],\n",
       "       [ 3.60000000e-01,  1.60000000e-01,  1.00000000e-01],\n",
       "       [ 2.10000000e-01,  4.20000000e-01,  5.10000000e-01],\n",
       "       [ 7.70000000e-01,  5.40000000e-01,  1.16000000e+00],\n",
       "       [ 2.30000000e-01,  2.10000000e+00,  3.00000000e-02]])"
      ]
     },
     "execution_count": 32,
     "metadata": {},
     "output_type": "execute_result"
    }
   ],
   "source": [
    "u@D@vt"
   ]
  },
  {
   "cell_type": "code",
   "execution_count": 25,
   "metadata": {},
   "outputs": [
    {
     "data": {
      "text/plain": [
       "array([[0.54, 1.27, 0.  ],\n",
       "       [0.36, 0.16, 0.1 ],\n",
       "       [0.21, 0.42, 0.51],\n",
       "       [0.77, 0.54, 1.16],\n",
       "       [0.23, 2.1 , 0.03]])"
      ]
     },
     "execution_count": 25,
     "metadata": {},
     "output_type": "execute_result"
    }
   ],
   "source": [
    "A"
   ]
  }
 ],
 "metadata": {
  "kernelspec": {
   "display_name": "tf2",
   "language": "python",
   "name": "python3"
  },
  "language_info": {
   "codemirror_mode": {
    "name": "ipython",
    "version": 3
   },
   "file_extension": ".py",
   "mimetype": "text/x-python",
   "name": "python",
   "nbconvert_exporter": "python",
   "pygments_lexer": "ipython3",
   "version": "3.9.12 (main, Apr  4 2022, 05:22:27) [MSC v.1916 64 bit (AMD64)]"
  },
  "orig_nbformat": 4,
  "vscode": {
   "interpreter": {
    "hash": "9a92dc886063db3b8548512bbbf3429dad7ae1708694c583c21d1ffc4fc47ad7"
   }
  }
 },
 "nbformat": 4,
 "nbformat_minor": 2
}
